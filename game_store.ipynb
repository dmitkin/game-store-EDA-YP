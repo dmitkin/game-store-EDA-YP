{
 "cells": [
  {
   "cell_type": "markdown",
   "metadata": {},
   "source": [
    "# Проект интернет-магазина \"Стримчик\"."
   ]
  },
  {
   "cell_type": "markdown",
   "metadata": {},
   "source": [
    "Интернет-магазин «Стримчик» продаёт по всему миру компьютерные игры. Из открытых источников доступны исторические данные о продажах игр, оценки пользователей и экспертов, жанры и платформы (например, Xbox или PlayStation). Нужно выявить определяющие успешность игры закономерности для того чтобы сделать ставку на потенциально популярный продукт и спланировать рекламные кампании на 2017 год с помощью имеющихся данных, собранных до 2016 года."
   ]
  },
  {
   "cell_type": "markdown",
   "metadata": {},
   "source": [
    "### Общая информация о данных."
   ]
  },
  {
   "cell_type": "markdown",
   "metadata": {},
   "source": [
    "Рассмотрим предоставленный файл с данными и изучим общую информацию."
   ]
  },
  {
   "cell_type": "code",
   "execution_count": 1,
   "metadata": {},
   "outputs": [
    {
     "name": "stdout",
     "output_type": "stream",
     "text": [
      "<class 'pandas.core.frame.DataFrame'>\n",
      "RangeIndex: 16715 entries, 0 to 16714\n",
      "Data columns (total 11 columns):\n",
      " #   Column           Non-Null Count  Dtype  \n",
      "---  ------           --------------  -----  \n",
      " 0   Name             16713 non-null  object \n",
      " 1   Platform         16715 non-null  object \n",
      " 2   Year_of_Release  16446 non-null  float64\n",
      " 3   Genre            16713 non-null  object \n",
      " 4   NA_sales         16715 non-null  float64\n",
      " 5   EU_sales         16715 non-null  float64\n",
      " 6   JP_sales         16715 non-null  float64\n",
      " 7   Other_sales      16715 non-null  float64\n",
      " 8   Critic_Score     8137 non-null   float64\n",
      " 9   User_Score       10014 non-null  object \n",
      " 10  Rating           9949 non-null   object \n",
      "dtypes: float64(6), object(5)\n",
      "memory usage: 1.4+ MB\n"
     ]
    }
   ],
   "source": [
    "import pandas as pd\n",
    "import numpy as np\n",
    "import matplotlib.pyplot as plt\n",
    "import seaborn as sns\n",
    "from scipy import stats as st\n",
    "\n",
    "df = pd.read_csv('/datasets/games.csv')\n",
    "df.info()"
   ]
  },
  {
   "cell_type": "code",
   "execution_count": 2,
   "metadata": {},
   "outputs": [
    {
     "data": {
      "text/html": [
       "<div>\n",
       "<style scoped>\n",
       "    .dataframe tbody tr th:only-of-type {\n",
       "        vertical-align: middle;\n",
       "    }\n",
       "\n",
       "    .dataframe tbody tr th {\n",
       "        vertical-align: top;\n",
       "    }\n",
       "\n",
       "    .dataframe thead th {\n",
       "        text-align: right;\n",
       "    }\n",
       "</style>\n",
       "<table border=\"1\" class=\"dataframe\">\n",
       "  <thead>\n",
       "    <tr style=\"text-align: right;\">\n",
       "      <th></th>\n",
       "      <th>Name</th>\n",
       "      <th>Platform</th>\n",
       "      <th>Year_of_Release</th>\n",
       "      <th>Genre</th>\n",
       "      <th>NA_sales</th>\n",
       "      <th>EU_sales</th>\n",
       "      <th>JP_sales</th>\n",
       "      <th>Other_sales</th>\n",
       "      <th>Critic_Score</th>\n",
       "      <th>User_Score</th>\n",
       "      <th>Rating</th>\n",
       "    </tr>\n",
       "  </thead>\n",
       "  <tbody>\n",
       "    <tr>\n",
       "      <th>0</th>\n",
       "      <td>Wii Sports</td>\n",
       "      <td>Wii</td>\n",
       "      <td>2006.0</td>\n",
       "      <td>Sports</td>\n",
       "      <td>41.36</td>\n",
       "      <td>28.96</td>\n",
       "      <td>3.77</td>\n",
       "      <td>8.45</td>\n",
       "      <td>76.0</td>\n",
       "      <td>8</td>\n",
       "      <td>E</td>\n",
       "    </tr>\n",
       "    <tr>\n",
       "      <th>1</th>\n",
       "      <td>Super Mario Bros.</td>\n",
       "      <td>NES</td>\n",
       "      <td>1985.0</td>\n",
       "      <td>Platform</td>\n",
       "      <td>29.08</td>\n",
       "      <td>3.58</td>\n",
       "      <td>6.81</td>\n",
       "      <td>0.77</td>\n",
       "      <td>NaN</td>\n",
       "      <td>NaN</td>\n",
       "      <td>NaN</td>\n",
       "    </tr>\n",
       "    <tr>\n",
       "      <th>2</th>\n",
       "      <td>Mario Kart Wii</td>\n",
       "      <td>Wii</td>\n",
       "      <td>2008.0</td>\n",
       "      <td>Racing</td>\n",
       "      <td>15.68</td>\n",
       "      <td>12.76</td>\n",
       "      <td>3.79</td>\n",
       "      <td>3.29</td>\n",
       "      <td>82.0</td>\n",
       "      <td>8.3</td>\n",
       "      <td>E</td>\n",
       "    </tr>\n",
       "    <tr>\n",
       "      <th>3</th>\n",
       "      <td>Wii Sports Resort</td>\n",
       "      <td>Wii</td>\n",
       "      <td>2009.0</td>\n",
       "      <td>Sports</td>\n",
       "      <td>15.61</td>\n",
       "      <td>10.93</td>\n",
       "      <td>3.28</td>\n",
       "      <td>2.95</td>\n",
       "      <td>80.0</td>\n",
       "      <td>8</td>\n",
       "      <td>E</td>\n",
       "    </tr>\n",
       "    <tr>\n",
       "      <th>4</th>\n",
       "      <td>Pokemon Red/Pokemon Blue</td>\n",
       "      <td>GB</td>\n",
       "      <td>1996.0</td>\n",
       "      <td>Role-Playing</td>\n",
       "      <td>11.27</td>\n",
       "      <td>8.89</td>\n",
       "      <td>10.22</td>\n",
       "      <td>1.00</td>\n",
       "      <td>NaN</td>\n",
       "      <td>NaN</td>\n",
       "      <td>NaN</td>\n",
       "    </tr>\n",
       "  </tbody>\n",
       "</table>\n",
       "</div>"
      ],
      "text/plain": [
       "                       Name Platform  Year_of_Release         Genre  NA_sales  \\\n",
       "0                Wii Sports      Wii           2006.0        Sports     41.36   \n",
       "1         Super Mario Bros.      NES           1985.0      Platform     29.08   \n",
       "2            Mario Kart Wii      Wii           2008.0        Racing     15.68   \n",
       "3         Wii Sports Resort      Wii           2009.0        Sports     15.61   \n",
       "4  Pokemon Red/Pokemon Blue       GB           1996.0  Role-Playing     11.27   \n",
       "\n",
       "   EU_sales  JP_sales  Other_sales  Critic_Score User_Score Rating  \n",
       "0     28.96      3.77         8.45          76.0          8      E  \n",
       "1      3.58      6.81         0.77           NaN        NaN    NaN  \n",
       "2     12.76      3.79         3.29          82.0        8.3      E  \n",
       "3     10.93      3.28         2.95          80.0          8      E  \n",
       "4      8.89     10.22         1.00           NaN        NaN    NaN  "
      ]
     },
     "execution_count": 2,
     "metadata": {},
     "output_type": "execute_result"
    }
   ],
   "source": [
    "df.head(5)"
   ]
  },
  {
   "cell_type": "markdown",
   "metadata": {},
   "source": [
    "В данных содержится 16713 наименований игр. Наибольший недостаток данных составляют колонки, определяющие оценки критиков и пользовательские оценки, а также колонка рейтинга от организации ESRB. Можно заметить, что названия колонок оформлены не в нижнем регистре. Также в данных для некоторых колонок определен не подходящий для них тип, так, например, год выпуска игры указан как тип float. Разберемся с этими нюансами на этапе подготовки данных к анализу.  "
   ]
  },
  {
   "cell_type": "markdown",
   "metadata": {},
   "source": [
    "### Подготовка данных к анализу."
   ]
  },
  {
   "cell_type": "markdown",
   "metadata": {},
   "source": [
    "#### Замена названий столбцов."
   ]
  },
  {
   "cell_type": "markdown",
   "metadata": {},
   "source": [
    "Приведем названия колонок к нижнему регистру для соблюдения стандартов стилистки и удобной работы с ними."
   ]
  },
  {
   "cell_type": "code",
   "execution_count": 3,
   "metadata": {},
   "outputs": [
    {
     "data": {
      "text/plain": [
       "Index(['name', 'platform', 'year_of_release', 'genre', 'na_sales', 'eu_sales',\n",
       "       'jp_sales', 'other_sales', 'critic_score', 'user_score', 'rating'],\n",
       "      dtype='object')"
      ]
     },
     "execution_count": 3,
     "metadata": {},
     "output_type": "execute_result"
    }
   ],
   "source": [
    "df.columns = df.columns.str.lower()\n",
    "df.columns"
   ]
  },
  {
   "cell_type": "markdown",
   "metadata": {},
   "source": [
    "#### Обработка пропусков."
   ]
  },
  {
   "cell_type": "markdown",
   "metadata": {},
   "source": [
    "Можно заметить, что в данных содержится две строки без указания названия игры, и жанра. Избавимся от них."
   ]
  },
  {
   "cell_type": "code",
   "execution_count": 4,
   "metadata": {},
   "outputs": [],
   "source": [
    "df.dropna(subset=['name'], inplace=True)"
   ]
  },
  {
   "cell_type": "code",
   "execution_count": 5,
   "metadata": {},
   "outputs": [
    {
     "data": {
      "text/plain": [
       "array(['8', nan, '8.3', '8.5', '6.6', '8.4', '8.6', '7.7', '6.3', '7.4',\n",
       "       '8.2', '9', '7.9', '8.1', '8.7', '7.1', '3.4', '5.3', '4.8', '3.2',\n",
       "       '8.9', '6.4', '7.8', '7.5', '2.6', '7.2', '9.2', '7', '7.3', '4.3',\n",
       "       '7.6', '5.7', '5', '9.1', '6.5', 'tbd', '8.8', '6.9', '9.4', '6.8',\n",
       "       '6.1', '6.7', '5.4', '4', '4.9', '4.5', '9.3', '6.2', '4.2', '6',\n",
       "       '3.7', '4.1', '5.8', '5.6', '5.5', '4.4', '4.6', '5.9', '3.9',\n",
       "       '3.1', '2.9', '5.2', '3.3', '4.7', '5.1', '3.5', '2.5', '1.9', '3',\n",
       "       '2.7', '2.2', '2', '9.5', '2.1', '3.6', '2.8', '1.8', '3.8', '0',\n",
       "       '1.6', '9.6', '2.4', '1.7', '1.1', '0.3', '1.5', '0.7', '1.2',\n",
       "       '2.3', '0.5', '1.3', '0.2', '0.6', '1.4', '0.9', '1', '9.7'],\n",
       "      dtype=object)"
      ]
     },
     "execution_count": 5,
     "metadata": {},
     "output_type": "execute_result"
    }
   ],
   "source": [
    "df['user_score'].unique()"
   ]
  },
  {
   "cell_type": "markdown",
   "metadata": {},
   "source": [
    "В столбце `user_score` встречается аббревиатура 'tbd', что вероятно означает 'to be determined', то есть 'предстоит определить'. Возможно в некоторых играх с такой оценкой не было системы для оценки пользователями или же игра просто не была выпущена в релиз, в любом случае, так как у нас есть полные данные о продажах игр, заменим аббревиатуру на значение NaN и оставим пропуски без изменений.  "
   ]
  },
  {
   "cell_type": "code",
   "execution_count": 6,
   "metadata": {},
   "outputs": [],
   "source": [
    "df.loc[df['user_score'] == 'tbd', 'user_score'] = np.nan"
   ]
  },
  {
   "cell_type": "markdown",
   "metadata": {},
   "source": [
    "Пустые значения в столбце с годом выпуска, а также пропуски в столбцах `critic_score`, `user_score`, `rating` мы не можем заполнить средним или каким либо еще значением, так как это может исказить результаты дальнейшего анализа (и в целом было бы не логично). К пропускам в данных столбцах могли привести технические неполадки, либо отразился человеческий фактор, а в столбце `year_of_release` год мог быть указан в названии. Мы не можем просто удалить строки, в которых отсутствуют данные в указанных столбцах, потому что другие данные могут быть полезными для анализа, поэтому заменим пустые значения в колонках `year_of_release`, `critic_score`, `user_score` на -1 для того чтобы преобразовать их в более подходящий тип данных.  "
   ]
  },
  {
   "cell_type": "code",
   "execution_count": 7,
   "metadata": {},
   "outputs": [],
   "source": [
    "for col in ['year_of_release', 'critic_score', 'user_score']:\n",
    "    df[col] = df[col].fillna(-1)"
   ]
  },
  {
   "cell_type": "markdown",
   "metadata": {},
   "source": [
    "#### Преобразование типов."
   ]
  },
  {
   "cell_type": "markdown",
   "metadata": {},
   "source": [
    "В некоторых колонках, таких как: `year_of_release`, `critic_score` тип данных определен как float несмотря на то, что в данных используются целые числа (тип int), а в столбце `user_score` и указан строковый тип данных, однако данные предоставлены в числах типа float. "
   ]
  },
  {
   "cell_type": "code",
   "execution_count": 8,
   "metadata": {},
   "outputs": [],
   "source": [
    "for col in ['year_of_release', 'critic_score']:\n",
    "    df[col] = df[col].astype(int)"
   ]
  },
  {
   "cell_type": "code",
   "execution_count": 9,
   "metadata": {},
   "outputs": [],
   "source": [
    "df['user_score'] = df['user_score'].astype(float) "
   ]
  },
  {
   "cell_type": "markdown",
   "metadata": {},
   "source": [
    "#### Суммарные продажи."
   ]
  },
  {
   "cell_type": "markdown",
   "metadata": {},
   "source": [
    "Создадим новый столбец `total_sales` в котором будет рассчитана сумма продаж игр во всех регионах."
   ]
  },
  {
   "cell_type": "code",
   "execution_count": 10,
   "metadata": {},
   "outputs": [],
   "source": [
    "df['total_sales'] = df.loc[:, 'na_sales': 'other_sales'].apply('sum', axis=1)"
   ]
  },
  {
   "cell_type": "code",
   "execution_count": 11,
   "metadata": {},
   "outputs": [
    {
     "data": {
      "text/html": [
       "<div>\n",
       "<style scoped>\n",
       "    .dataframe tbody tr th:only-of-type {\n",
       "        vertical-align: middle;\n",
       "    }\n",
       "\n",
       "    .dataframe tbody tr th {\n",
       "        vertical-align: top;\n",
       "    }\n",
       "\n",
       "    .dataframe thead th {\n",
       "        text-align: right;\n",
       "    }\n",
       "</style>\n",
       "<table border=\"1\" class=\"dataframe\">\n",
       "  <thead>\n",
       "    <tr style=\"text-align: right;\">\n",
       "      <th></th>\n",
       "      <th>name</th>\n",
       "      <th>platform</th>\n",
       "      <th>year_of_release</th>\n",
       "      <th>genre</th>\n",
       "      <th>na_sales</th>\n",
       "      <th>eu_sales</th>\n",
       "      <th>jp_sales</th>\n",
       "      <th>other_sales</th>\n",
       "      <th>critic_score</th>\n",
       "      <th>user_score</th>\n",
       "      <th>rating</th>\n",
       "      <th>total_sales</th>\n",
       "    </tr>\n",
       "  </thead>\n",
       "  <tbody>\n",
       "    <tr>\n",
       "      <th>0</th>\n",
       "      <td>Wii Sports</td>\n",
       "      <td>Wii</td>\n",
       "      <td>2006</td>\n",
       "      <td>Sports</td>\n",
       "      <td>41.36</td>\n",
       "      <td>28.96</td>\n",
       "      <td>3.77</td>\n",
       "      <td>8.45</td>\n",
       "      <td>76</td>\n",
       "      <td>8.0</td>\n",
       "      <td>E</td>\n",
       "      <td>82.54</td>\n",
       "    </tr>\n",
       "    <tr>\n",
       "      <th>1</th>\n",
       "      <td>Super Mario Bros.</td>\n",
       "      <td>NES</td>\n",
       "      <td>1985</td>\n",
       "      <td>Platform</td>\n",
       "      <td>29.08</td>\n",
       "      <td>3.58</td>\n",
       "      <td>6.81</td>\n",
       "      <td>0.77</td>\n",
       "      <td>-1</td>\n",
       "      <td>-1.0</td>\n",
       "      <td>NaN</td>\n",
       "      <td>40.24</td>\n",
       "    </tr>\n",
       "    <tr>\n",
       "      <th>2</th>\n",
       "      <td>Mario Kart Wii</td>\n",
       "      <td>Wii</td>\n",
       "      <td>2008</td>\n",
       "      <td>Racing</td>\n",
       "      <td>15.68</td>\n",
       "      <td>12.76</td>\n",
       "      <td>3.79</td>\n",
       "      <td>3.29</td>\n",
       "      <td>82</td>\n",
       "      <td>8.3</td>\n",
       "      <td>E</td>\n",
       "      <td>35.52</td>\n",
       "    </tr>\n",
       "    <tr>\n",
       "      <th>3</th>\n",
       "      <td>Wii Sports Resort</td>\n",
       "      <td>Wii</td>\n",
       "      <td>2009</td>\n",
       "      <td>Sports</td>\n",
       "      <td>15.61</td>\n",
       "      <td>10.93</td>\n",
       "      <td>3.28</td>\n",
       "      <td>2.95</td>\n",
       "      <td>80</td>\n",
       "      <td>8.0</td>\n",
       "      <td>E</td>\n",
       "      <td>32.77</td>\n",
       "    </tr>\n",
       "    <tr>\n",
       "      <th>4</th>\n",
       "      <td>Pokemon Red/Pokemon Blue</td>\n",
       "      <td>GB</td>\n",
       "      <td>1996</td>\n",
       "      <td>Role-Playing</td>\n",
       "      <td>11.27</td>\n",
       "      <td>8.89</td>\n",
       "      <td>10.22</td>\n",
       "      <td>1.00</td>\n",
       "      <td>-1</td>\n",
       "      <td>-1.0</td>\n",
       "      <td>NaN</td>\n",
       "      <td>31.38</td>\n",
       "    </tr>\n",
       "  </tbody>\n",
       "</table>\n",
       "</div>"
      ],
      "text/plain": [
       "                       name platform  year_of_release         genre  na_sales  \\\n",
       "0                Wii Sports      Wii             2006        Sports     41.36   \n",
       "1         Super Mario Bros.      NES             1985      Platform     29.08   \n",
       "2            Mario Kart Wii      Wii             2008        Racing     15.68   \n",
       "3         Wii Sports Resort      Wii             2009        Sports     15.61   \n",
       "4  Pokemon Red/Pokemon Blue       GB             1996  Role-Playing     11.27   \n",
       "\n",
       "   eu_sales  jp_sales  other_sales  critic_score  user_score rating  \\\n",
       "0     28.96      3.77         8.45            76         8.0      E   \n",
       "1      3.58      6.81         0.77            -1        -1.0    NaN   \n",
       "2     12.76      3.79         3.29            82         8.3      E   \n",
       "3     10.93      3.28         2.95            80         8.0      E   \n",
       "4      8.89     10.22         1.00            -1        -1.0    NaN   \n",
       "\n",
       "   total_sales  \n",
       "0        82.54  \n",
       "1        40.24  \n",
       "2        35.52  \n",
       "3        32.77  \n",
       "4        31.38  "
      ]
     },
     "execution_count": 11,
     "metadata": {},
     "output_type": "execute_result"
    }
   ],
   "source": [
    "df.head()"
   ]
  },
  {
   "cell_type": "markdown",
   "metadata": {},
   "source": [
    "### Исследовательский анализ данных."
   ]
  },
  {
   "cell_type": "markdown",
   "metadata": {},
   "source": [
    "#### Продажи и выпуск игр и  в зависимости от года."
   ]
  },
  {
   "cell_type": "markdown",
   "metadata": {},
   "source": [
    "Рассмотрим какое количество игр выпускалось в зависимости от года."
   ]
  },
  {
   "cell_type": "code",
   "execution_count": 12,
   "metadata": {},
   "outputs": [
    {
     "data": {
      "image/png": "[encoded data removed]",
      "text/plain": [
       "<Figure size 720x360 with 1 Axes>"
      ]
     },
     "metadata": {
      "needs_background": "light"
     },
     "output_type": "display_data"
    }
   ],
   "source": [
    "df.groupby('year_of_release')['name'].count().plot(kind='bar', figsize=(10, 5))\n",
    "plt.show()"
   ]
  },
  {
   "cell_type": "markdown",
   "metadata": {},
   "source": [
    "Мы видим на графике, что активный рост выпуска видеоигр начался с 1994 года вплоть до 2010, затем можно заметить резкий спад в 2012 года уровень производства в котором держится в настоящий момент. Так как мы собираемся использовать данные для прогноза на 2017 год, для анализа нам более интересен период с 2012 года, в котором производство видеоигр держится на примерно одинаковом уровне и при этом выпускаются игры для еще не устаревших платформ."
   ]
  },
  {
   "cell_type": "markdown",
   "metadata": {},
   "source": [
    "______"
   ]
  },
  {
   "cell_type": "markdown",
   "metadata": {},
   "source": [
    "Рассмотрим как менялись продажи по игровым платформам в зависимости от года."
   ]
  },
  {
   "cell_type": "code",
   "execution_count": 13,
   "metadata": {},
   "outputs": [
    {
     "data": {
      "image/png": "[encoded data removed]",
      "text/plain": [
       "<Figure size 1440x576 with 2 Axes>"
      ]
     },
     "metadata": {
      "needs_background": "light"
     },
     "output_type": "display_data"
    }
   ],
   "source": [
    "plt.figure(figsize=(20, 8))\n",
    "sns.heatmap(df.pivot_table(index='year_of_release', values='total_sales', columns='platform', aggfunc='sum').fillna(0))\n",
    "plt.show()"
   ]
  },
  {
   "cell_type": "markdown",
   "metadata": {},
   "source": [
    "Для анализа продаж мы будем рассматривать платформы с наибольшими суммарными продажами игр (свыше 50 млн продаж игр платформы за год), базу данных с такими платформами назовем `top_sales_platforms`"
   ]
  },
  {
   "cell_type": "code",
   "execution_count": 14,
   "metadata": {},
   "outputs": [
    {
     "data": {
      "text/html": [
       "<div>\n",
       "<style scoped>\n",
       "    .dataframe tbody tr th:only-of-type {\n",
       "        vertical-align: middle;\n",
       "    }\n",
       "\n",
       "    .dataframe tbody tr th {\n",
       "        vertical-align: top;\n",
       "    }\n",
       "\n",
       "    .dataframe thead th {\n",
       "        text-align: right;\n",
       "    }\n",
       "</style>\n",
       "<table border=\"1\" class=\"dataframe\">\n",
       "  <thead>\n",
       "    <tr style=\"text-align: right;\">\n",
       "      <th></th>\n",
       "      <th>year_of_release</th>\n",
       "      <th>platform</th>\n",
       "      <th>total_sales</th>\n",
       "    </tr>\n",
       "  </thead>\n",
       "  <tbody>\n",
       "    <tr>\n",
       "      <th>0</th>\n",
       "      <td>1984</td>\n",
       "      <td>NES</td>\n",
       "      <td>50.08</td>\n",
       "    </tr>\n",
       "    <tr>\n",
       "      <th>1</th>\n",
       "      <td>1985</td>\n",
       "      <td>NES</td>\n",
       "      <td>53.44</td>\n",
       "    </tr>\n",
       "    <tr>\n",
       "      <th>2</th>\n",
       "      <td>1989</td>\n",
       "      <td>GB</td>\n",
       "      <td>64.97</td>\n",
       "    </tr>\n",
       "    <tr>\n",
       "      <th>3</th>\n",
       "      <td>1996</td>\n",
       "      <td>PS</td>\n",
       "      <td>94.70</td>\n",
       "    </tr>\n",
       "    <tr>\n",
       "      <th>4</th>\n",
       "      <td>1997</td>\n",
       "      <td>PS</td>\n",
       "      <td>136.17</td>\n",
       "    </tr>\n",
       "  </tbody>\n",
       "</table>\n",
       "</div>"
      ],
      "text/plain": [
       "   year_of_release platform  total_sales\n",
       "0             1984      NES        50.08\n",
       "1             1985      NES        53.44\n",
       "2             1989       GB        64.97\n",
       "3             1996       PS        94.70\n",
       "4             1997       PS       136.17"
      ]
     },
     "execution_count": 14,
     "metadata": {},
     "output_type": "execute_result"
    }
   ],
   "source": [
    "top_sales_platforms = df.pivot_table(index=['year_of_release', 'platform'], values='total_sales', aggfunc='sum').query('total_sales > 50').reset_index()\n",
    "top_sales_platforms.head(5)"
   ]
  },
  {
   "cell_type": "markdown",
   "metadata": {},
   "source": [
    "Рассмотрим график продаж игр популярных платформ в зависимости от года"
   ]
  },
  {
   "cell_type": "code",
   "execution_count": 15,
   "metadata": {},
   "outputs": [
    {
     "data": {
      "image/png": "[encoded data removed]",
      "text/plain": [
       "<Figure size 720x720 with 1 Axes>"
      ]
     },
     "metadata": {
      "needs_background": "light"
     },
     "output_type": "display_data"
    }
   ],
   "source": [
    "df.pivot_table(index=['year_of_release', 'platform'], values='total_sales', aggfunc='sum').query('total_sales > 50').plot(kind='barh', figsize=(10, 10))\n",
    "plt.show()"
   ]
  },
  {
   "cell_type": "markdown",
   "metadata": {},
   "source": [
    "Данный график позволяет визуально оценить какие платформы доминируют на рынке в определенный год. Также исходя из графика можно разглядеть тенденцию в переодичности появления новых и исчезновения старых игровых платформ"
   ]
  },
  {
   "cell_type": "markdown",
   "metadata": {},
   "source": [
    "#### Периодичность выхода и исчезновения игровых платформ."
   ]
  },
  {
   "cell_type": "markdown",
   "metadata": {},
   "source": [
    "Рассмотрим даты выхода популярных платформ. "
   ]
  },
  {
   "cell_type": "code",
   "execution_count": 16,
   "metadata": {},
   "outputs": [
    {
     "data": {
      "text/plain": [
       "[('3DS', 2011),\n",
       " ('DS', 1985),\n",
       " ('GB', 1988),\n",
       " ('GBA', 2000),\n",
       " ('GC', 2001),\n",
       " ('N64', 1996),\n",
       " ('NES', 1983),\n",
       " ('PS', 1994),\n",
       " ('PS2', 2000),\n",
       " ('PS3', 2006),\n",
       " ('PS4', 2013),\n",
       " ('PSP', 2004),\n",
       " ('Wii', 2006),\n",
       " ('X360', 2005),\n",
       " ('XB', 2000),\n",
       " ('XOne', 2013)]"
      ]
     },
     "execution_count": 16,
     "metadata": {},
     "output_type": "execute_result"
    }
   ],
   "source": [
    "year_of_top_platform_release = dict()\n",
    "\n",
    "for platform in top_sales_platforms['platform'].unique():\n",
    "    year_of_top_platform_release[platform] = df[(df['platform'] == platform) & (df['year_of_release'] != -1)]['year_of_release'].min() \n",
    "\n",
    "sorted(year_of_top_platform_release.items())"
   ]
  },
  {
   "cell_type": "markdown",
   "metadata": {},
   "source": [
    "Вычислим приблизительную периодичность с которой выпускаются новые платформы."
   ]
  },
  {
   "cell_type": "code",
   "execution_count": 17,
   "metadata": {},
   "outputs": [
    {
     "data": {
      "text/plain": [
       "2.0"
      ]
     },
     "execution_count": 17,
     "metadata": {},
     "output_type": "execute_result"
    }
   ],
   "source": [
    "np.diff(list(year_of_top_platform_release.values())).mean()\n",
    "    "
   ]
  },
  {
   "cell_type": "markdown",
   "metadata": {},
   "source": [
    "Получается, что в среднем новые популярные игровые платформы появляются каждые 2 года."
   ]
  },
  {
   "cell_type": "markdown",
   "metadata": {},
   "source": [
    "__________________"
   ]
  },
  {
   "cell_type": "markdown",
   "metadata": {},
   "source": [
    "Рассмотрим годы завершения выпуска игр для популярных платформ."
   ]
  },
  {
   "cell_type": "code",
   "execution_count": 18,
   "metadata": {},
   "outputs": [
    {
     "data": {
      "text/plain": [
       "[('3DS', 2016),\n",
       " ('DS', 2013),\n",
       " ('GB', 2001),\n",
       " ('GBA', 2007),\n",
       " ('GC', 2007),\n",
       " ('N64', 2002),\n",
       " ('NES', 1994),\n",
       " ('PS', 2003),\n",
       " ('PS2', 2011),\n",
       " ('PS3', 2016),\n",
       " ('PS4', 2016),\n",
       " ('PSP', 2015),\n",
       " ('Wii', 2016),\n",
       " ('X360', 2016),\n",
       " ('XB', 2008),\n",
       " ('XOne', 2016)]"
      ]
     },
     "execution_count": 18,
     "metadata": {},
     "output_type": "execute_result"
    }
   ],
   "source": [
    "max_year_of_top_platform_release = dict()\n",
    "\n",
    "for platform in top_sales_platforms['platform'].unique():\n",
    "    max_year_of_top_platform_release[platform] = df[(df['platform'] == platform) & (df['year_of_release'] != -1)]['year_of_release'].max() \n",
    "\n",
    "sorted(max_year_of_top_platform_release.items())"
   ]
  },
  {
   "cell_type": "markdown",
   "metadata": {},
   "source": [
    "Чтобы рассчитать периодчность исчезновения популярных платформ, нам необходимо избавиться от до сих пор актуальных моделей, таковыми являются PS4, XOne, 3DS, PS3, Wii, X360."
   ]
  },
  {
   "cell_type": "code",
   "execution_count": 19,
   "metadata": {},
   "outputs": [],
   "source": [
    "del max_year_of_top_platform_release['PS4']\n",
    "del max_year_of_top_platform_release['XOne']\n",
    "del max_year_of_top_platform_release['3DS']\n",
    "del max_year_of_top_platform_release['PS3']\n",
    "del max_year_of_top_platform_release['Wii']\n",
    "del max_year_of_top_platform_release['X360']\n"
   ]
  },
  {
   "cell_type": "markdown",
   "metadata": {},
   "source": [
    "Вычислим приблизительную периодичность с которой выпускаются новые платформы."
   ]
  },
  {
   "cell_type": "code",
   "execution_count": 20,
   "metadata": {},
   "outputs": [
    {
     "data": {
      "text/plain": [
       "2.3333333333333335"
      ]
     },
     "execution_count": 20,
     "metadata": {},
     "output_type": "execute_result"
    }
   ],
   "source": [
    "np.diff(list(max_year_of_top_platform_release.values())).mean()"
   ]
  },
  {
   "cell_type": "markdown",
   "metadata": {},
   "source": [
    "Получается, что в среднем популярные игровые платформы исчезают с рынка каждые 2.3 года. Так как момент выхода новых платформ меньше момента исчезновений, это может означать, что пользователи некоторое время продолжают пользоваться платформами, на которые уже не выпускаются новые игры, что вполне логично."
   ]
  },
  {
   "cell_type": "markdown",
   "metadata": {},
   "source": [
    "Рассмотрим несколько популярных платформ с наибольшими суммарными продажами видеоигр для того чтобы определить примерный срок жизни игровой платформы. Для примера возьмем топ-5 платформ с наибольшим количеством проданных копий видеоигр."
   ]
  },
  {
   "cell_type": "code",
   "execution_count": 21,
   "metadata": {},
   "outputs": [
    {
     "data": {
      "image/png": "[encoded data removed]",
      "text/plain": [
       "<Figure size 432x288 with 1 Axes>"
      ]
     },
     "metadata": {
      "needs_background": "light"
     },
     "output_type": "display_data"
    }
   ],
   "source": [
    "df.groupby('platform')['total_sales'].agg('sum').sort_values().tail().plot(kind='bar')\n",
    "plt.xticks(rotation=45)\n",
    "plt.show()"
   ]
  },
  {
   "cell_type": "markdown",
   "metadata": {},
   "source": [
    "В топ-5 попали: \"PS2\", \"X360\", \"PS3\", \"Wii\", \"DS\". Построим по каждой платформе распределение продаж по годам."
   ]
  },
  {
   "cell_type": "markdown",
   "metadata": {},
   "source": [
    "Рассмотрим график распределения продаж в зависимости от года для \"PS2\""
   ]
  },
  {
   "cell_type": "code",
   "execution_count": 22,
   "metadata": {},
   "outputs": [
    {
     "data": {
      "text/plain": [
       "<AxesSubplot:xlabel='year_of_release'>"
      ]
     },
     "execution_count": 22,
     "metadata": {},
     "output_type": "execute_result"
    },
    {
     "data": {
      "image/png": "[encoded data removed]",
      "text/plain": [
       "<Figure size 432x288 with 1 Axes>"
      ]
     },
     "metadata": {
      "needs_background": "light"
     },
     "output_type": "display_data"
    }
   ],
   "source": [
    "df.query('platform == \"PS2\" and year_of_release != -1').groupby('year_of_release')['total_sales'].agg('sum').plot(kind='bar', grid=True)"
   ]
  },
  {
   "cell_type": "markdown",
   "metadata": {},
   "source": [
    "Судя по графику, примерный срок жизни игровой платформы \"PS2\" составил с 2000 по 2009 год, то есть 9 лет."
   ]
  },
  {
   "cell_type": "markdown",
   "metadata": {},
   "source": [
    "_____"
   ]
  },
  {
   "cell_type": "markdown",
   "metadata": {},
   "source": [
    "Рассмотрим график распределения продаж в зависимости от года для \"X360\"."
   ]
  },
  {
   "cell_type": "code",
   "execution_count": 23,
   "metadata": {},
   "outputs": [
    {
     "data": {
      "text/plain": [
       "<AxesSubplot:xlabel='year_of_release'>"
      ]
     },
     "execution_count": 23,
     "metadata": {},
     "output_type": "execute_result"
    },
    {
     "data": {
      "image/png": "[encoded data removed]",
      "text/plain": [
       "<Figure size 432x288 with 1 Axes>"
      ]
     },
     "metadata": {
      "needs_background": "light"
     },
     "output_type": "display_data"
    }
   ],
   "source": [
    "df.query('platform == \"X360\" and year_of_release != -1').groupby('year_of_release')['total_sales'].agg('sum').plot(kind='bar', grid=True)"
   ]
  },
  {
   "cell_type": "markdown",
   "metadata": {},
   "source": [
    "Судя по графику, примерный срок жизни игровой платформы \"X360\" составил с 2005 по 2015 год, то есть 10 лет."
   ]
  },
  {
   "cell_type": "markdown",
   "metadata": {},
   "source": [
    "-----"
   ]
  },
  {
   "cell_type": "markdown",
   "metadata": {},
   "source": [
    "Рассмотрим график распределения продаж в зависимости от года для \"PS3\"."
   ]
  },
  {
   "cell_type": "code",
   "execution_count": 24,
   "metadata": {},
   "outputs": [
    {
     "data": {
      "text/plain": [
       "<AxesSubplot:xlabel='year_of_release'>"
      ]
     },
     "execution_count": 24,
     "metadata": {},
     "output_type": "execute_result"
    },
    {
     "data": {
      "image/png": "[encoded data removed]",
      "text/plain": [
       "<Figure size 432x288 with 1 Axes>"
      ]
     },
     "metadata": {
      "needs_background": "light"
     },
     "output_type": "display_data"
    }
   ],
   "source": [
    "df.query('platform == \"PS3\" and year_of_release != -1').groupby('year_of_release')['total_sales'].agg('sum').plot(kind='bar', grid=True)"
   ]
  },
  {
   "cell_type": "markdown",
   "metadata": {},
   "source": [
    "Судя по графику, примерный срок жизни игровой платформы \"PS3\" составил с 2006 по 2015 год, то есть 9 лет."
   ]
  },
  {
   "cell_type": "markdown",
   "metadata": {},
   "source": [
    "-----"
   ]
  },
  {
   "cell_type": "markdown",
   "metadata": {},
   "source": [
    "Рассмотрим график распределения продаж в зависимости от года для \"Wii\"."
   ]
  },
  {
   "cell_type": "code",
   "execution_count": 25,
   "metadata": {},
   "outputs": [
    {
     "data": {
      "text/plain": [
       "<AxesSubplot:xlabel='year_of_release'>"
      ]
     },
     "execution_count": 25,
     "metadata": {},
     "output_type": "execute_result"
    },
    {
     "data": {
      "image/png": "[encoded data removed]",
      "text/plain": [
       "<Figure size 432x288 with 1 Axes>"
      ]
     },
     "metadata": {
      "needs_background": "light"
     },
     "output_type": "display_data"
    }
   ],
   "source": [
    "df.query('platform == \"Wii\" and year_of_release != -1').groupby('year_of_release')['total_sales'].agg('sum').plot(kind='bar', grid=True)"
   ]
  },
  {
   "cell_type": "markdown",
   "metadata": {},
   "source": [
    "Судя по графику, примерный срок жизни игровой платформы \"Wii\" составил с 2006 по 2012 год, то есть 6 лет."
   ]
  },
  {
   "cell_type": "markdown",
   "metadata": {},
   "source": [
    "-----"
   ]
  },
  {
   "cell_type": "markdown",
   "metadata": {},
   "source": [
    "Рассмотрим график распределения продаж в зависимости от года для \"DS\"."
   ]
  },
  {
   "cell_type": "code",
   "execution_count": 26,
   "metadata": {},
   "outputs": [
    {
     "data": {
      "text/plain": [
       "<AxesSubplot:xlabel='year_of_release'>"
      ]
     },
     "execution_count": 26,
     "metadata": {},
     "output_type": "execute_result"
    },
    {
     "data": {
      "image/png": "[encoded data removed]",
      "text/plain": [
       "<Figure size 432x288 with 1 Axes>"
      ]
     },
     "metadata": {
      "needs_background": "light"
     },
     "output_type": "display_data"
    }
   ],
   "source": [
    "df.query('platform == \"DS\" and year_of_release != -1').groupby('year_of_release')['total_sales'].agg('sum').plot(kind='bar', grid=True)"
   ]
  },
  {
   "cell_type": "markdown",
   "metadata": {},
   "source": [
    "Судя по графику, примерный срок жизни игровой платформы \"DS\" составил с 2004 по 2012 год, то есть 8 лет."
   ]
  },
  {
   "cell_type": "markdown",
   "metadata": {},
   "source": [
    "#### Анализ продаж в актуальный период."
   ]
  },
  {
   "cell_type": "markdown",
   "metadata": {},
   "source": [
    "В главе 3.1 мы обозначили актуальным период с 2012 по 2016 год. Создадим новый датафрейм `actual_df` с данными, содержащими игры выпущенные после 2011 года."
   ]
  },
  {
   "cell_type": "code",
   "execution_count": 27,
   "metadata": {},
   "outputs": [],
   "source": [
    "actual_df = df.query('year_of_release >= 2013')"
   ]
  },
  {
   "cell_type": "markdown",
   "metadata": {},
   "source": [
    "Рассмотрим объем продаж игр в зависимости от игровой платформы."
   ]
  },
  {
   "cell_type": "code",
   "execution_count": 28,
   "metadata": {},
   "outputs": [
    {
     "data": {
      "image/png": "[encoded data removed]",
      "text/plain": [
       "<Figure size 1440x576 with 2 Axes>"
      ]
     },
     "metadata": {
      "needs_background": "light"
     },
     "output_type": "display_data"
    }
   ],
   "source": [
    "plt.figure(figsize=(20, 8))\n",
    "sns.heatmap(actual_df.pivot_table(index='year_of_release', values='total_sales', columns='platform', aggfunc='sum').fillna(0), annot=True)\n",
    "plt.show()"
   ]
  },
  {
   "cell_type": "markdown",
   "metadata": {},
   "source": [
    "В большом отрыве от остальных, первые позиции на актуальный момент разделяют две платформы: PS4 и XOne, у которых практически не остается конкурентов, так как количество продаж игр остальных платформ заметно снизилось к настоящему моменту."
   ]
  },
  {
   "cell_type": "markdown",
   "metadata": {},
   "source": [
    "_____"
   ]
  },
  {
   "cell_type": "markdown",
   "metadata": {},
   "source": [
    "Рассмотрим диаграммы размаха продаж игр различных игровых платформ для того чтобы визуально оценить какие платформы имеют игры, продажи которых сильно превосходят обычные значения."
   ]
  },
  {
   "cell_type": "code",
   "execution_count": 29,
   "metadata": {},
   "outputs": [
    {
     "data": {
      "image/png": "[encoded data removed]",
      "text/plain": [
       "<Figure size 504x432 with 1 Axes>"
      ]
     },
     "metadata": {
      "needs_background": "light"
     },
     "output_type": "display_data"
    }
   ],
   "source": [
    "actual_df.boxplot(column='total_sales', by='platform', figsize=(7, 6))\n",
    "plt.show()"
   ]
  },
  {
   "cell_type": "markdown",
   "metadata": {},
   "source": [
    "На графике можно увидеть, что такие платформы, как 3DS, PS3, PS4, X360 имеют хитовые игры, продажи которых превышают 10 млн. копий, чем явно не могут похвастать такие платформы как DS, PSP, PSV."
   ]
  },
  {
   "cell_type": "markdown",
   "metadata": {},
   "source": [
    "Сравним медианные показатели продаж."
   ]
  },
  {
   "cell_type": "code",
   "execution_count": 30,
   "metadata": {},
   "outputs": [
    {
     "data": {
      "image/png": "[encoded data removed]",
      "text/plain": [
       "<Figure size 504x432 with 1 Axes>"
      ]
     },
     "metadata": {
      "needs_background": "light"
     },
     "output_type": "display_data"
    }
   ],
   "source": [
    "actual_df.query('total_sales < 1').boxplot(column='total_sales', by='platform', figsize=(7, 6))\n",
    "plt.show()"
   ]
  },
  {
   "cell_type": "markdown",
   "metadata": {},
   "source": [
    "Как мы видим, наиболее высокие показатели остаются за PS3, PS4, Wii, WiiU, X360 и XOne."
   ]
  },
  {
   "cell_type": "markdown",
   "metadata": {},
   "source": [
    "#### Влияние отзывов на продажи."
   ]
  },
  {
   "cell_type": "markdown",
   "metadata": {},
   "source": [
    "Постараемся выяснить как отзывы обычных пользователей и отзывы критиков влияют на продажи. Объектом исследования будет самая популярная на данный момент платформа - PS4.\n",
    "\n",
    "Для анализа воспользуемся диаграммой рассеяния и рассмотрим корреляцию между показателями."
   ]
  },
  {
   "cell_type": "markdown",
   "metadata": {},
   "source": [
    "Создадим новый датафрейм `ps4_df`, содержащий только игры для платформы PS4."
   ]
  },
  {
   "cell_type": "markdown",
   "metadata": {},
   "source": [
    "Рассмотрим корреляцию продаж в зависимости от оценок критиков."
   ]
  },
  {
   "cell_type": "code",
   "execution_count": 32,
   "metadata": {},
   "outputs": [],
   "source": [
    "ps4_df = df.query('platform == \"PS4\"')"
   ]
  },
  {
   "cell_type": "code",
   "execution_count": 34,
   "metadata": {},
   "outputs": [
    {
     "data": {
      "image/png": "[encoded data removed]",
      "text/plain": [
       "<Figure size 432x288 with 1 Axes>"
      ]
     },
     "metadata": {
      "needs_background": "light"
     },
     "output_type": "display_data"
    }
   ],
   "source": [
    "ps4_df.query('critic_score != -1').plot.scatter(x='critic_score', y='total_sales', grid=True, alpha=0.5)\n",
    "plt.show()"
   ]
  },
  {
   "cell_type": "code",
   "execution_count": 35,
   "metadata": {},
   "outputs": [
    {
     "data": {
      "text/html": [
       "<div>\n",
       "<style scoped>\n",
       "    .dataframe tbody tr th:only-of-type {\n",
       "        vertical-align: middle;\n",
       "    }\n",
       "\n",
       "    .dataframe tbody tr th {\n",
       "        vertical-align: top;\n",
       "    }\n",
       "\n",
       "    .dataframe thead th {\n",
       "        text-align: right;\n",
       "    }\n",
       "</style>\n",
       "<table border=\"1\" class=\"dataframe\">\n",
       "  <thead>\n",
       "    <tr style=\"text-align: right;\">\n",
       "      <th></th>\n",
       "      <th>critic_score</th>\n",
       "      <th>total_sales</th>\n",
       "    </tr>\n",
       "  </thead>\n",
       "  <tbody>\n",
       "    <tr>\n",
       "      <th>critic_score</th>\n",
       "      <td>1.000000</td>\n",
       "      <td>0.406568</td>\n",
       "    </tr>\n",
       "    <tr>\n",
       "      <th>total_sales</th>\n",
       "      <td>0.406568</td>\n",
       "      <td>1.000000</td>\n",
       "    </tr>\n",
       "  </tbody>\n",
       "</table>\n",
       "</div>"
      ],
      "text/plain": [
       "              critic_score  total_sales\n",
       "critic_score      1.000000     0.406568\n",
       "total_sales       0.406568     1.000000"
      ]
     },
     "execution_count": 35,
     "metadata": {},
     "output_type": "execute_result"
    }
   ],
   "source": [
    "ps4_df.query('critic_score != -1').loc[:, ['critic_score', 'total_sales']].corr()"
   ]
  },
  {
   "cell_type": "markdown",
   "metadata": {},
   "source": [
    "Наблюдается слабая положительная корреляция между оценкой критиков и количеством продаж видеоигр."
   ]
  },
  {
   "cell_type": "markdown",
   "metadata": {},
   "source": [
    "Рассмотрим корреляцию продаж в зависимости от оценок пользователей."
   ]
  },
  {
   "cell_type": "code",
   "execution_count": 36,
   "metadata": {},
   "outputs": [
    {
     "data": {
      "image/png": "[encoded data removed]",
      "text/plain": [
       "<Figure size 432x288 with 1 Axes>"
      ]
     },
     "metadata": {
      "needs_background": "light"
     },
     "output_type": "display_data"
    }
   ],
   "source": [
    "ps4_df.query('user_score != -1').plot.scatter(x='user_score', y='total_sales', grid=True, alpha=0.5)\n",
    "plt.show()"
   ]
  },
  {
   "cell_type": "code",
   "execution_count": 37,
   "metadata": {},
   "outputs": [
    {
     "data": {
      "text/html": [
       "<div>\n",
       "<style scoped>\n",
       "    .dataframe tbody tr th:only-of-type {\n",
       "        vertical-align: middle;\n",
       "    }\n",
       "\n",
       "    .dataframe tbody tr th {\n",
       "        vertical-align: top;\n",
       "    }\n",
       "\n",
       "    .dataframe thead th {\n",
       "        text-align: right;\n",
       "    }\n",
       "</style>\n",
       "<table border=\"1\" class=\"dataframe\">\n",
       "  <thead>\n",
       "    <tr style=\"text-align: right;\">\n",
       "      <th></th>\n",
       "      <th>user_score</th>\n",
       "      <th>total_sales</th>\n",
       "    </tr>\n",
       "  </thead>\n",
       "  <tbody>\n",
       "    <tr>\n",
       "      <th>user_score</th>\n",
       "      <td>1.000000</td>\n",
       "      <td>-0.031957</td>\n",
       "    </tr>\n",
       "    <tr>\n",
       "      <th>total_sales</th>\n",
       "      <td>-0.031957</td>\n",
       "      <td>1.000000</td>\n",
       "    </tr>\n",
       "  </tbody>\n",
       "</table>\n",
       "</div>"
      ],
      "text/plain": [
       "             user_score  total_sales\n",
       "user_score     1.000000    -0.031957\n",
       "total_sales   -0.031957     1.000000"
      ]
     },
     "execution_count": 37,
     "metadata": {},
     "output_type": "execute_result"
    }
   ],
   "source": [
    "ps4_df.query('user_score != -1').loc[:, ['user_score', 'total_sales']].corr()"
   ]
  },
  {
   "cell_type": "markdown",
   "metadata": {},
   "source": [
    "Корреляция между оценками пользователей и продажами игр практически отсутствует."
   ]
  },
  {
   "cell_type": "markdown",
   "metadata": {},
   "source": [
    "Таким образом на количество продаж влияет оценка игр выставленная критиками, в отличие от оценок пользователей, которая практически не влияет на количество продаж. Игры в большинстве случаев выпускаются одновременно для нескольких платформ, поэтому результаты можно интерпретировать и для других игровых платформ. "
   ]
  },
  {
   "cell_type": "markdown",
   "metadata": {},
   "source": [
    "Рассмотрим корреляцию в целом на других платформах в зависимости от оценок критиков."
   ]
  },
  {
   "cell_type": "code",
   "execution_count": 38,
   "metadata": {},
   "outputs": [
    {
     "data": {
      "text/html": [
       "<div>\n",
       "<style scoped>\n",
       "    .dataframe tbody tr th:only-of-type {\n",
       "        vertical-align: middle;\n",
       "    }\n",
       "\n",
       "    .dataframe tbody tr th {\n",
       "        vertical-align: top;\n",
       "    }\n",
       "\n",
       "    .dataframe thead th {\n",
       "        text-align: right;\n",
       "    }\n",
       "</style>\n",
       "<table border=\"1\" class=\"dataframe\">\n",
       "  <thead>\n",
       "    <tr style=\"text-align: right;\">\n",
       "      <th></th>\n",
       "      <th>critic_score</th>\n",
       "      <th>total_sales</th>\n",
       "    </tr>\n",
       "  </thead>\n",
       "  <tbody>\n",
       "    <tr>\n",
       "      <th>critic_score</th>\n",
       "      <td>1.000000</td>\n",
       "      <td>0.281251</td>\n",
       "    </tr>\n",
       "    <tr>\n",
       "      <th>total_sales</th>\n",
       "      <td>0.281251</td>\n",
       "      <td>1.000000</td>\n",
       "    </tr>\n",
       "  </tbody>\n",
       "</table>\n",
       "</div>"
      ],
      "text/plain": [
       "              critic_score  total_sales\n",
       "critic_score      1.000000     0.281251\n",
       "total_sales       0.281251     1.000000"
      ]
     },
     "execution_count": 38,
     "metadata": {},
     "output_type": "execute_result"
    }
   ],
   "source": [
    "actual_df.query('critic_score != -1 and platform != \"PS4\"').loc[:, ['critic_score', 'total_sales']].corr()"
   ]
  },
  {
   "cell_type": "markdown",
   "metadata": {},
   "source": [
    "Рассмотрим корреляцию в целом на других платформах в зависимости от оценок пользователей."
   ]
  },
  {
   "cell_type": "code",
   "execution_count": 39,
   "metadata": {},
   "outputs": [
    {
     "data": {
      "text/html": [
       "<div>\n",
       "<style scoped>\n",
       "    .dataframe tbody tr th:only-of-type {\n",
       "        vertical-align: middle;\n",
       "    }\n",
       "\n",
       "    .dataframe tbody tr th {\n",
       "        vertical-align: top;\n",
       "    }\n",
       "\n",
       "    .dataframe thead th {\n",
       "        text-align: right;\n",
       "    }\n",
       "</style>\n",
       "<table border=\"1\" class=\"dataframe\">\n",
       "  <thead>\n",
       "    <tr style=\"text-align: right;\">\n",
       "      <th></th>\n",
       "      <th>user_score</th>\n",
       "      <th>total_sales</th>\n",
       "    </tr>\n",
       "  </thead>\n",
       "  <tbody>\n",
       "    <tr>\n",
       "      <th>user_score</th>\n",
       "      <td>1.000000</td>\n",
       "      <td>-0.001122</td>\n",
       "    </tr>\n",
       "    <tr>\n",
       "      <th>total_sales</th>\n",
       "      <td>-0.001122</td>\n",
       "      <td>1.000000</td>\n",
       "    </tr>\n",
       "  </tbody>\n",
       "</table>\n",
       "</div>"
      ],
      "text/plain": [
       "             user_score  total_sales\n",
       "user_score     1.000000    -0.001122\n",
       "total_sales   -0.001122     1.000000"
      ]
     },
     "execution_count": 39,
     "metadata": {},
     "output_type": "execute_result"
    }
   ],
   "source": [
    "actual_df.query('user_score != -1 and platform != \"PS4\"').loc[:, ['user_score', 'total_sales']].corr()"
   ]
  },
  {
   "cell_type": "markdown",
   "metadata": {},
   "source": [
    "Как мы видим, на других платформах также прослеживается слабая, однако менее выраженная положительная корреляция между оценкой критиков и количеством продаж по сравнению с самой популярной игровой платформой. Корреляция между оценками пользователей и продажами игр также практически отсутствует."
   ]
  },
  {
   "cell_type": "markdown",
   "metadata": {},
   "source": [
    "#### Прибыльность игр в зависимости от жанра."
   ]
  },
  {
   "cell_type": "code",
   "execution_count": 40,
   "metadata": {},
   "outputs": [
    {
     "data": {
      "image/png": "[encoded data removed]",
      "text/plain": [
       "<Figure size 720x360 with 1 Axes>"
      ]
     },
     "metadata": {
      "needs_background": "light"
     },
     "output_type": "display_data"
    }
   ],
   "source": [
    "actual_df.pivot_table(index='genre', values='total_sales').sort_values('total_sales').plot(kind='bar', grid=True, figsize=(10, 5))\n",
    "plt.xticks(rotation=45)\n",
    "plt.show()"
   ]
  },
  {
   "cell_type": "markdown",
   "metadata": {},
   "source": [
    "Как мы видим из графика, самым популярным жанром является \"Shooter\", наименее популярными жанрами являются \"Adventure\", \"Puzzle\" и \"Strategy\". "
   ]
  },
  {
   "cell_type": "markdown",
   "metadata": {},
   "source": [
    "### Портрет пользователя."
   ]
  },
  {
   "cell_type": "markdown",
   "metadata": {},
   "source": [
    "Создадим отдельные датафреймы для каждого региона продаж `na_df`, `eu_df` и `jp_df`, в которых будут собраны данные об играх наиболее популярных именно в его регионе."
   ]
  },
  {
   "cell_type": "code",
   "execution_count": 41,
   "metadata": {},
   "outputs": [],
   "source": [
    "na_df = actual_df.query('na_sales > eu_sales and na_sales > jp_sales')\n",
    "eu_df = actual_df.query('eu_sales > na_sales and eu_sales > jp_sales')\n",
    "jp_df = actual_df.query('jp_sales > na_sales and jp_sales > eu_sales')"
   ]
  },
  {
   "cell_type": "markdown",
   "metadata": {},
   "source": [
    "#### Самые популярные платформы."
   ]
  },
  {
   "cell_type": "markdown",
   "metadata": {},
   "source": [
    "Самые популярные платформы (топ-5) Северной Америки"
   ]
  },
  {
   "cell_type": "code",
   "execution_count": 42,
   "metadata": {
    "scrolled": true
   },
   "outputs": [
    {
     "data": {
      "text/plain": [
       "platform\n",
       "3DS      38.20\n",
       "PS3      63.50\n",
       "X360     81.66\n",
       "XOne     93.12\n",
       "PS4     108.74\n",
       "Name: na_sales, dtype: float64"
      ]
     },
     "execution_count": 42,
     "metadata": {},
     "output_type": "execute_result"
    }
   ],
   "source": [
    "actual_df.groupby('platform')['na_sales'].sum().sort_values().tail()"
   ]
  },
  {
   "cell_type": "code",
   "execution_count": 43,
   "metadata": {},
   "outputs": [
    {
     "data": {
      "image/png": "[encoded data removed]",
      "text/plain": [
       "<Figure size 432x288 with 1 Axes>"
      ]
     },
     "metadata": {
      "needs_background": "light"
     },
     "output_type": "display_data"
    }
   ],
   "source": [
    "actual_df.groupby('platform')['na_sales'].sum().sort_values().tail().plot(kind='bar')\n",
    "plt.xticks(rotation=45)\n",
    "plt.show()"
   ]
  },
  {
   "cell_type": "markdown",
   "metadata": {},
   "source": [
    "Самой популярной игровой платформой в Северной Америке оказалась \"PS4\", за ней следуют \"XOne\", \"X360\", \"PS3\", \"3DS\"."
   ]
  },
  {
   "cell_type": "markdown",
   "metadata": {},
   "source": [
    "________"
   ]
  },
  {
   "cell_type": "markdown",
   "metadata": {},
   "source": [
    "Самые популярные платформы (топ-5) Европы."
   ]
  },
  {
   "cell_type": "code",
   "execution_count": 44,
   "metadata": {},
   "outputs": [
    {
     "data": {
      "text/plain": [
       "platform\n",
       "3DS      30.96\n",
       "X360     42.52\n",
       "XOne     51.59\n",
       "PS3      67.81\n",
       "PS4     141.09\n",
       "Name: eu_sales, dtype: float64"
      ]
     },
     "execution_count": 44,
     "metadata": {},
     "output_type": "execute_result"
    }
   ],
   "source": [
    "actual_df.groupby('platform')['eu_sales'].sum().sort_values().tail()"
   ]
  },
  {
   "cell_type": "code",
   "execution_count": 45,
   "metadata": {},
   "outputs": [
    {
     "data": {
      "image/png": "[encoded data removed]",
      "text/plain": [
       "<Figure size 432x288 with 1 Axes>"
      ]
     },
     "metadata": {
      "needs_background": "light"
     },
     "output_type": "display_data"
    }
   ],
   "source": [
    "actual_df.groupby('platform')['eu_sales'].sum().sort_values().tail().plot(kind='bar')\n",
    "plt.xticks(rotation=45)\n",
    "plt.show()"
   ]
  },
  {
   "cell_type": "markdown",
   "metadata": {},
   "source": [
    "В Европе первое место занимает \"PS4\" в довольно большом отрыве от менее популярных \"PS3\", \"XOne\", \"X360\", \"3DS\"."
   ]
  },
  {
   "cell_type": "markdown",
   "metadata": {},
   "source": [
    "___________"
   ]
  },
  {
   "cell_type": "markdown",
   "metadata": {},
   "source": [
    "Самые популярные платформы (топ-5) Японии."
   ]
  },
  {
   "cell_type": "code",
   "execution_count": 46,
   "metadata": {},
   "outputs": [
    {
     "data": {
      "text/plain": [
       "platform\n",
       "WiiU    10.88\n",
       "PS4     15.96\n",
       "PSV     18.59\n",
       "PS3     23.35\n",
       "3DS     67.81\n",
       "Name: jp_sales, dtype: float64"
      ]
     },
     "execution_count": 46,
     "metadata": {},
     "output_type": "execute_result"
    }
   ],
   "source": [
    "actual_df.groupby('platform')['jp_sales'].sum().sort_values().tail()"
   ]
  },
  {
   "cell_type": "code",
   "execution_count": 47,
   "metadata": {},
   "outputs": [
    {
     "data": {
      "image/png": "[encoded data removed]",
      "text/plain": [
       "<Figure size 432x288 with 1 Axes>"
      ]
     },
     "metadata": {
      "needs_background": "light"
     },
     "output_type": "display_data"
    }
   ],
   "source": [
    "actual_df.groupby('platform')['jp_sales'].sum().sort_values().tail().plot(kind='bar')\n",
    "plt.xticks(rotation=45)\n",
    "plt.show()"
   ]
  },
  {
   "cell_type": "markdown",
   "metadata": {},
   "source": [
    "В Японии лидирующую позицию по продажам игр занимет платформа \"3DS\". за ней следуют \"PS3\", \"PSV\", \"PS4\", \"WiiU\"."
   ]
  },
  {
   "cell_type": "markdown",
   "metadata": {},
   "source": [
    "#### Самые популярные жанры."
   ]
  },
  {
   "cell_type": "markdown",
   "metadata": {},
   "source": [
    "Самые популярные жанры (топ-5) Северной Америки."
   ]
  },
  {
   "cell_type": "code",
   "execution_count": 48,
   "metadata": {},
   "outputs": [
    {
     "data": {
      "text/plain": [
       "genre\n",
       "Misc             27.49\n",
       "Role-Playing     46.40\n",
       "Sports           65.27\n",
       "Shooter         109.74\n",
       "Action          126.05\n",
       "Name: na_sales, dtype: float64"
      ]
     },
     "execution_count": 48,
     "metadata": {},
     "output_type": "execute_result"
    }
   ],
   "source": [
    "actual_df.groupby('genre')['na_sales'].sum().sort_values().tail()"
   ]
  },
  {
   "cell_type": "code",
   "execution_count": 49,
   "metadata": {},
   "outputs": [
    {
     "data": {
      "image/png": "[encoded data removed]",
      "text/plain": [
       "<Figure size 432x288 with 1 Axes>"
      ]
     },
     "metadata": {
      "needs_background": "light"
     },
     "output_type": "display_data"
    }
   ],
   "source": [
    "actual_df.groupby('genre')['na_sales'].sum().sort_values().tail().plot(kind='bar')\n",
    "plt.xticks(rotation=45)\n",
    "plt.show()"
   ]
  },
  {
   "cell_type": "markdown",
   "metadata": {},
   "source": [
    "Лидирующее место среди игровых жанров в Северной Америке занимает \"Action\", чуть менее популярным оказался жанр \"Shooter\".  Жанры \"Sports\", \"Role-Playing\", \"Misc\" находятся в конце списка."
   ]
  },
  {
   "cell_type": "markdown",
   "metadata": {},
   "source": [
    "-----"
   ]
  },
  {
   "cell_type": "markdown",
   "metadata": {},
   "source": [
    "Самые популярные жанры (топ-5) Европы."
   ]
  },
  {
   "cell_type": "code",
   "execution_count": 50,
   "metadata": {},
   "outputs": [
    {
     "data": {
      "text/plain": [
       "genre\n",
       "Racing           20.19\n",
       "Role-Playing     36.97\n",
       "Sports           60.52\n",
       "Shooter          87.86\n",
       "Action          118.13\n",
       "Name: eu_sales, dtype: float64"
      ]
     },
     "execution_count": 50,
     "metadata": {},
     "output_type": "execute_result"
    }
   ],
   "source": [
    "actual_df.groupby('genre')['eu_sales'].sum().sort_values().tail()"
   ]
  },
  {
   "cell_type": "code",
   "execution_count": 51,
   "metadata": {},
   "outputs": [
    {
     "data": {
      "image/png": "[encoded data removed]",
      "text/plain": [
       "<Figure size 432x288 with 1 Axes>"
      ]
     },
     "metadata": {
      "needs_background": "light"
     },
     "output_type": "display_data"
    }
   ],
   "source": [
    "actual_df.groupby('genre')['eu_sales'].sum().sort_values().tail().plot(kind='bar')\n",
    "plt.xticks(rotation=45)\n",
    "plt.show()"
   ]
  },
  {
   "cell_type": "markdown",
   "metadata": {},
   "source": [
    "В Европе, как и в Америке, лидирующим жанром является \"Action\", за ним с небольшим следует жанр \"Shooter\", следом  идут жанры \"Sports\", \"Role-Playing\", \"Racing\"."
   ]
  },
  {
   "cell_type": "markdown",
   "metadata": {},
   "source": [
    "________________"
   ]
  },
  {
   "cell_type": "markdown",
   "metadata": {},
   "source": [
    "Самые популярные жанры (топ-5) Японии."
   ]
  },
  {
   "cell_type": "code",
   "execution_count": 52,
   "metadata": {},
   "outputs": [
    {
     "data": {
      "text/plain": [
       "genre\n",
       "Shooter          6.61\n",
       "Fighting         7.65\n",
       "Misc             9.20\n",
       "Action          40.49\n",
       "Role-Playing    51.04\n",
       "Name: jp_sales, dtype: float64"
      ]
     },
     "execution_count": 52,
     "metadata": {},
     "output_type": "execute_result"
    }
   ],
   "source": [
    "actual_df.groupby('genre')['jp_sales'].sum().sort_values().tail()"
   ]
  },
  {
   "cell_type": "code",
   "execution_count": 53,
   "metadata": {},
   "outputs": [
    {
     "data": {
      "image/png": "[encoded data removed]",
      "text/plain": [
       "<Figure size 432x288 with 1 Axes>"
      ]
     },
     "metadata": {
      "needs_background": "light"
     },
     "output_type": "display_data"
    }
   ],
   "source": [
    "actual_df.groupby('genre')['jp_sales'].sum().sort_values().tail().plot(kind='bar')\n",
    "plt.xticks(rotation=45)\n",
    "plt.show()"
   ]
  },
  {
   "cell_type": "markdown",
   "metadata": {},
   "source": [
    "В Японии лидирующее место занимает жанр \"Role-Playing\", второе место за жанром \"Action\", затем в большом отрыве располагаются жанры \"Misc\", \"Fightning\" и \"Shooter\"."
   ]
  },
  {
   "cell_type": "markdown",
   "metadata": {},
   "source": [
    "#### Влияние рейтинга ESRB на продажи."
   ]
  },
  {
   "cell_type": "code",
   "execution_count": 54,
   "metadata": {},
   "outputs": [
    {
     "data": {
      "text/html": [
       "<div>\n",
       "<style scoped>\n",
       "    .dataframe tbody tr th:only-of-type {\n",
       "        vertical-align: middle;\n",
       "    }\n",
       "\n",
       "    .dataframe tbody tr th {\n",
       "        vertical-align: top;\n",
       "    }\n",
       "\n",
       "    .dataframe thead th {\n",
       "        text-align: right;\n",
       "    }\n",
       "</style>\n",
       "<table border=\"1\" class=\"dataframe\">\n",
       "  <thead>\n",
       "    <tr style=\"text-align: right;\">\n",
       "      <th></th>\n",
       "      <th>na_sales</th>\n",
       "      <th>fraction</th>\n",
       "    </tr>\n",
       "    <tr>\n",
       "      <th>rating</th>\n",
       "      <th></th>\n",
       "      <th></th>\n",
       "    </tr>\n",
       "  </thead>\n",
       "  <tbody>\n",
       "    <tr>\n",
       "      <th>E</th>\n",
       "      <td>0.261755</td>\n",
       "      <td>0.24</td>\n",
       "    </tr>\n",
       "    <tr>\n",
       "      <th>E10+</th>\n",
       "      <td>0.215238</td>\n",
       "      <td>0.20</td>\n",
       "    </tr>\n",
       "    <tr>\n",
       "      <th>M</th>\n",
       "      <td>0.447724</td>\n",
       "      <td>0.42</td>\n",
       "    </tr>\n",
       "    <tr>\n",
       "      <th>T</th>\n",
       "      <td>0.149520</td>\n",
       "      <td>0.14</td>\n",
       "    </tr>\n",
       "  </tbody>\n",
       "</table>\n",
       "</div>"
      ],
      "text/plain": [
       "        na_sales  fraction\n",
       "rating                    \n",
       "E       0.261755      0.24\n",
       "E10+    0.215238      0.20\n",
       "M       0.447724      0.42\n",
       "T       0.149520      0.14"
      ]
     },
     "execution_count": 54,
     "metadata": {},
     "output_type": "execute_result"
    }
   ],
   "source": [
    "na_rating = actual_df.pivot_table(index='rating', values='na_sales')\n",
    "na_rating['fraction'] = na_rating['na_sales'].agg(lambda x: x / na_rating['na_sales'].sum()).round(2)\n",
    "na_rating"
   ]
  },
  {
   "cell_type": "markdown",
   "metadata": {},
   "source": [
    "В Северной Америке больше всего игр было продано с рейтингом \"M\"."
   ]
  },
  {
   "cell_type": "code",
   "execution_count": 55,
   "metadata": {},
   "outputs": [
    {
     "data": {
      "text/html": [
       "<div>\n",
       "<style scoped>\n",
       "    .dataframe tbody tr th:only-of-type {\n",
       "        vertical-align: middle;\n",
       "    }\n",
       "\n",
       "    .dataframe tbody tr th {\n",
       "        vertical-align: top;\n",
       "    }\n",
       "\n",
       "    .dataframe thead th {\n",
       "        text-align: right;\n",
       "    }\n",
       "</style>\n",
       "<table border=\"1\" class=\"dataframe\">\n",
       "  <thead>\n",
       "    <tr style=\"text-align: right;\">\n",
       "      <th></th>\n",
       "      <th>eu_sales</th>\n",
       "      <th>fraction</th>\n",
       "    </tr>\n",
       "    <tr>\n",
       "      <th>rating</th>\n",
       "      <th></th>\n",
       "      <th></th>\n",
       "    </tr>\n",
       "  </thead>\n",
       "  <tbody>\n",
       "    <tr>\n",
       "      <th>E</th>\n",
       "      <td>0.276026</td>\n",
       "      <td>0.29</td>\n",
       "    </tr>\n",
       "    <tr>\n",
       "      <th>E10+</th>\n",
       "      <td>0.169405</td>\n",
       "      <td>0.18</td>\n",
       "    </tr>\n",
       "    <tr>\n",
       "      <th>M</th>\n",
       "      <td>0.393821</td>\n",
       "      <td>0.41</td>\n",
       "    </tr>\n",
       "    <tr>\n",
       "      <th>T</th>\n",
       "      <td>0.125976</td>\n",
       "      <td>0.13</td>\n",
       "    </tr>\n",
       "  </tbody>\n",
       "</table>\n",
       "</div>"
      ],
      "text/plain": [
       "        eu_sales  fraction\n",
       "rating                    \n",
       "E       0.276026      0.29\n",
       "E10+    0.169405      0.18\n",
       "M       0.393821      0.41\n",
       "T       0.125976      0.13"
      ]
     },
     "execution_count": 55,
     "metadata": {},
     "output_type": "execute_result"
    }
   ],
   "source": [
    "eu_rating = actual_df.pivot_table(index='rating', values='eu_sales')\n",
    "eu_rating['fraction'] = eu_rating['eu_sales'].agg(lambda x: x / eu_rating['eu_sales'].sum()).round(2)\n",
    "eu_rating"
   ]
  },
  {
   "cell_type": "markdown",
   "metadata": {},
   "source": [
    "В Европе также больше всего игр было продано с рейтингом \"M\"."
   ]
  },
  {
   "cell_type": "code",
   "execution_count": 56,
   "metadata": {},
   "outputs": [
    {
     "data": {
      "text/html": [
       "<div>\n",
       "<style scoped>\n",
       "    .dataframe tbody tr th:only-of-type {\n",
       "        vertical-align: middle;\n",
       "    }\n",
       "\n",
       "    .dataframe tbody tr th {\n",
       "        vertical-align: top;\n",
       "    }\n",
       "\n",
       "    .dataframe thead th {\n",
       "        text-align: right;\n",
       "    }\n",
       "</style>\n",
       "<table border=\"1\" class=\"dataframe\">\n",
       "  <thead>\n",
       "    <tr style=\"text-align: right;\">\n",
       "      <th></th>\n",
       "      <th>jp_sales</th>\n",
       "      <th>fraction</th>\n",
       "    </tr>\n",
       "    <tr>\n",
       "      <th>rating</th>\n",
       "      <th></th>\n",
       "      <th></th>\n",
       "    </tr>\n",
       "  </thead>\n",
       "  <tbody>\n",
       "    <tr>\n",
       "      <th>E</th>\n",
       "      <td>0.050132</td>\n",
       "      <td>0.29</td>\n",
       "    </tr>\n",
       "    <tr>\n",
       "      <th>E10+</th>\n",
       "      <td>0.023373</td>\n",
       "      <td>0.13</td>\n",
       "    </tr>\n",
       "    <tr>\n",
       "      <th>M</th>\n",
       "      <td>0.038238</td>\n",
       "      <td>0.22</td>\n",
       "    </tr>\n",
       "    <tr>\n",
       "      <th>T</th>\n",
       "      <td>0.061832</td>\n",
       "      <td>0.36</td>\n",
       "    </tr>\n",
       "  </tbody>\n",
       "</table>\n",
       "</div>"
      ],
      "text/plain": [
       "        jp_sales  fraction\n",
       "rating                    \n",
       "E       0.050132      0.29\n",
       "E10+    0.023373      0.13\n",
       "M       0.038238      0.22\n",
       "T       0.061832      0.36"
      ]
     },
     "execution_count": 56,
     "metadata": {},
     "output_type": "execute_result"
    }
   ],
   "source": [
    "jp_rating = actual_df.pivot_table(index='rating', values='jp_sales')\n",
    "jp_rating['fraction'] = jp_rating['jp_sales'].agg(lambda x: x / jp_rating['jp_sales'].sum()).round(2)\n",
    "jp_rating"
   ]
  },
  {
   "cell_type": "markdown",
   "metadata": {},
   "source": [
    "В Японии же ситуация отличается от Северной Америки и Европы, в лидирующие позиции занимают игры с рейтингом T."
   ]
  },
  {
   "cell_type": "markdown",
   "metadata": {},
   "source": [
    "### Проверка гипотез."
   ]
  },
  {
   "cell_type": "markdown",
   "metadata": {},
   "source": [
    "#### Гипотеза: средние пользовательские рейтинги платформ Xbox One и PC одинаковы."
   ]
  },
  {
   "cell_type": "markdown",
   "metadata": {},
   "source": [
    "Сформулируем нулевую гипотезу: средний пользовательский рейтинг платформы Xbox One равен среднему пользовательскому рейтингу платформы PC. В таком случае альтернативная гипотеза будет гласить, что средний пользовательский рейтинг платформы Xbox One не равен среднему пользовательскому рейтингу платформы PC."
   ]
  },
  {
   "cell_type": "markdown",
   "metadata": {},
   "source": [
    "Создадим датафрейм `xone_df` содержащий игры для Xbox One и датайфрейм `pc_df` содержащий игры для PC. "
   ]
  },
  {
   "cell_type": "code",
   "execution_count": 57,
   "metadata": {},
   "outputs": [],
   "source": [
    "xone_df = actual_df.query('user_score != -1 and platform == \"XOne\"')\n",
    "pc_df = actual_df.query('user_score != -1 and platform == \"PC\"')"
   ]
  },
  {
   "cell_type": "markdown",
   "metadata": {},
   "source": [
    "Для проверки гипотезы воспользуемся функцией `ttest_ind`, позволяющей определить p-value и оценить вероятность расхождения средних значений. В случае если значение p-value меньше 5%, то мы отвергнем нулевую гипотезу о равенстве пользовательских рейтингов."
   ]
  },
  {
   "cell_type": "code",
   "execution_count": 58,
   "metadata": {},
   "outputs": [
    {
     "data": {
      "text/plain": [
       "0.14759594013430463"
      ]
     },
     "execution_count": 58,
     "metadata": {},
     "output_type": "execute_result"
    }
   ],
   "source": [
    "st.ttest_ind(xone_df['user_score'], pc_df['user_score'], equal_var=False).pvalue"
   ]
  },
  {
   "cell_type": "markdown",
   "metadata": {},
   "source": [
    "Уровень значимости (p-value) между средними показателями пользовательских рейтингов двух платформ составляет около 15%, что явно превышет контрольный показатель в 5% из чего следует, что полученные результаты не противоречат нулевой гипотезе, мы не можем ее отклонить."
   ]
  },
  {
   "cell_type": "markdown",
   "metadata": {},
   "source": [
    "#### Гипотеза: Средние пользовательские рейтинги жанров Action и Sports разные."
   ]
  },
  {
   "cell_type": "markdown",
   "metadata": {},
   "source": [
    "Сформулируем нулевую гипотезу: средний пользовательский рейтинг жанра Action отличается от среднего пользовательского рейтинга жанра Sports. В таком случае альтернативная гипотеза будет гласить, что средний пользовательский рейтинг жанра Action равен среднему пользовательскому рейтингу жанра Sports."
   ]
  },
  {
   "cell_type": "markdown",
   "metadata": {},
   "source": [
    "Создадим датафрейм `action_df` содержащий игры жанра \"Action\" и датайфрейм `sports_df` содержащий игры жанра \"Action\". "
   ]
  },
  {
   "cell_type": "code",
   "execution_count": 59,
   "metadata": {},
   "outputs": [],
   "source": [
    "action_df = actual_df.query('genre == \"Action\"')\n",
    "sports_df = actual_df.query('genre == \"Sports\"')"
   ]
  },
  {
   "cell_type": "markdown",
   "metadata": {},
   "source": [
    "Для проверки гипотезы воспользуемся функцией `ttest_ind`, позволяющей определить p-value и оценить вероятность расхождения средних значений. В случае если значение p-value меньше 5%, то мы не отвергаем нулевую гипотезу о неравенстве пользовательских рейтингов. "
   ]
  },
  {
   "cell_type": "code",
   "execution_count": 60,
   "metadata": {},
   "outputs": [
    {
     "data": {
      "text/plain": [
       "0.008445505365573197"
      ]
     },
     "execution_count": 60,
     "metadata": {},
     "output_type": "execute_result"
    }
   ],
   "source": [
    "st.ttest_ind(action_df['user_score'], sports_df['user_score'], equal_var=False).pvalue"
   ]
  },
  {
   "cell_type": "markdown",
   "metadata": {},
   "source": [
    "Уровень значимости (p-value) между средними показателями пользовательских рейтингов двух платформ составляет около 0.08%, что явно меньше контрольного показателя 5%. Полученные результаты не позволяют отклонить нулевую гипотезу."
   ]
  },
  {
   "cell_type": "markdown",
   "metadata": {},
   "source": [
    "  "
   ]
  },
  {
   "cell_type": "markdown",
   "metadata": {},
   "source": [
    "### Общий вывод."
   ]
  },
  {
   "cell_type": "markdown",
   "metadata": {},
   "source": [
    "В рамках данного проекта были произведены исследования основанные на данных, предоставленных интернет-магазином \"Стримчик\". Целью проекта было выявление закономерностей определяющих успешность игр, для того чтобы спланировать будущие рекламные компании. "
   ]
  },
  {
   "cell_type": "markdown",
   "metadata": {},
   "source": [
    "В предоставленных данных содержалось 16713 наименований игр с указанием года релиза, жанра, игровой платформы, количеством продаж в разных регионах, оценками пользователей и критиков, а также рейтинг организации ESRB. Наибольший недостаток данных составляли колонки, определяющие оценки критиков и пользовательские оценки, а также колонка рейтинга от организации ESRB. В ходе подготовки данных к анализу мы обработали пропуски, заменили тип данных на более подходящий, а также добавили новый столбец в котором находились данные об общих продажах."
   ]
  },
  {
   "cell_type": "markdown",
   "metadata": {},
   "source": [
    "В ходе исследования был проведен анализ продаж игр в зависимости от года выпуска. В ходе которого выяснилось, что активный рост выпуска видеоигр начался с 1994 года вплоть до 2010, затем начался резкий спад продаж, в 2012 году уровень производства держится на стабильном уровне. Для актуального анализа был взят период именно с 2013 года, в котором производство видеоигр держится на примерно одинаковом уровне и при этом выпускаются игры для еще не устаревших платформ."
   ]
  },
  {
   "cell_type": "markdown",
   "metadata": {},
   "source": [
    "Анализируя даты выхода игр для новых платформ, мы смогли вычислить, что новые (становящиеся популярными) платформы появляются примерно каждые два года. Также мы смогли выяснить, что в среднем популярные игровые платформы исчезают с рынка каждые 2.3 года. В среднем, жизнь популярной игровой платформы равняется примерно 8.4 годам. Пик роста продаж игр приходится на первые 3-4 года после выхода платформы."
   ]
  },
  {
   "cell_type": "markdown",
   "metadata": {},
   "source": [
    "Далее были рассмотрены общие продажи игр различных платформ за актуальный период, в ходе чего выяснилось, что в большом отрыве от остальных, первые позиции на актуальный момент разделяют две платформы: PS4 и XOne, у которых практически не остается конкурентов, так как количество продаж игр остальных платформ заметно снизилось к настоящему моменту. Также мы выяснили, что такие платформы, как 3DS, PS3, PS4, X360 имеют хитовые игры, продажи которых превышают 10 млн. копий, чем явно не могут похвастать такие платформы как DS, PSP, PSV, а также сравнили медианные показатели продаж, наиболее высокими показателями смогли похвастаться PS3, PS4, Wii, WiiU, X360 и XOne."
   ]
  },
  {
   "cell_type": "markdown",
   "metadata": {},
   "source": [
    "Затем мы постарались изучить то, как отзывы обычных пользователей и отзывы критиков влияют на продажи. В ходе исследования выяснилось, что на количество продаж влияет оценка игр выставленная критиками, в отличие от оценок пользователей, которая практически не влияет на количество продаж. "
   ]
  },
  {
   "cell_type": "markdown",
   "metadata": {},
   "source": [
    "Также были рассмотрены различные жанры игр, самым популярным жанром оказался \"Shooter\", наименее популярными жанрами  среди пользователей оказались \"Adventure\", \"Puzzle\" и \"Strategy\". "
   ]
  },
  {
   "cell_type": "markdown",
   "metadata": {},
   "source": [
    "Мы попробовали составить портрет пользователя  определенного региона, исходя из количества игр наиболее популярных в каждом регионе. Самой популярной игровой платформой в Северной Америке оказалась \"PS4\", за ней следуют \"XOne\", \"X360\", \"PS3\", \"3DS\". Лидирующее место среди игровых жанров в Северной Америке занимает \"Action\", чуть менее популярным оказался жанр \"Shooter\". Жанры \"Sports\", \"Role-Playing\", \"Misc\" находятся в конце списка. Исходя из рейтинга ESRB больше всего игр было продано с рейтингом \"M\", как и в Европе.\n",
    "\n",
    "В Европе первое место занимает \"PS4\" в довольно большом отрыве от менее популярных \"PS3\", \"XOne\", \"X360\", \"3DS\". В Европе, как и в Америке, лидирующим жанром является \"Action\", за ним с небольшим следует жанр \"Shooter\", следом идут жанры \"Sports\", \"Role-Playing\", \"Racing\".\n",
    "\n",
    "В Японии лидирующую позицию по продажам игр занимет платформа \"3DS\". за ней следуют \"PS3\", \"PSV\", \"PS4\", \"WiiU\". В Японии лидирующее место занимает жанр \"Role-Playing\", второе место за жанром \"Action\", затем в большом отрыве располагаются жанры \"Misc\", \"Fightning\" и \"Shooter\". Исходя из рейтинга ESRB в Японии ситуация отличается от Северной Америки и Европы, в лидирующие позиции занимают игры с рейтингом T."
   ]
  },
  {
   "cell_type": "markdown",
   "metadata": {},
   "source": [
    "В ходе проверки гипотез нам не удалось отвергнуть гипотезу о том, что средние пользовательские рейтинги платформ Xbox One и PC одинаковые, также мы не смогли отвергнуть гипотезу о том, что средние пользовательские рейтинги жанров Action и Sports разные."
   ]
  },
  {
   "cell_type": "markdown",
   "metadata": {},
   "source": [
    "Исходя из проведенного исследования, для планирования рекламной кампании на 2017 год можно предоставить некоторые рекомендации. Рекламной компании следует сосредоточить свое внимание на наиболее популярных и все еще развивающихся платформах на данный момент - PS4 и XOne, жанр \"Shooter\" - лидирующий жанр в отрыве от остальных. В зависимости от регионов ситуация меняется, следует это учитывать."
   ]
  }
 ],
 "metadata": {
  "ExecuteTimeLog": [
   {
    "duration": 829,
    "start_time": "2022-09-19T10:36:20.221Z"
   },
   {
    "duration": 61,
    "start_time": "2022-09-19T10:36:30.116Z"
   },
   {
    "duration": 67,
    "start_time": "2022-09-19T11:05:04.592Z"
   },
   {
    "duration": 8,
    "start_time": "2022-09-19T11:05:16.272Z"
   },
   {
    "duration": 9,
    "start_time": "2022-09-19T11:05:20.189Z"
   },
   {
    "duration": 3,
    "start_time": "2022-09-19T11:05:34.417Z"
   },
   {
    "duration": 14,
    "start_time": "2022-09-19T11:05:48.213Z"
   },
   {
    "duration": 16,
    "start_time": "2022-09-19T11:05:59.626Z"
   },
   {
    "duration": 3,
    "start_time": "2022-09-19T11:06:11.497Z"
   },
   {
    "duration": 5,
    "start_time": "2022-09-19T11:06:47.235Z"
   },
   {
    "duration": 15,
    "start_time": "2022-09-19T11:25:45.318Z"
   },
   {
    "duration": 17,
    "start_time": "2022-09-19T11:29:59.851Z"
   },
   {
    "duration": 30,
    "start_time": "2022-09-19T11:32:10.811Z"
   },
   {
    "duration": 15,
    "start_time": "2022-09-19T11:35:29.388Z"
   },
   {
    "duration": 8,
    "start_time": "2022-09-19T11:35:41.870Z"
   },
   {
    "duration": 11,
    "start_time": "2022-09-19T11:37:16.446Z"
   },
   {
    "duration": 22,
    "start_time": "2022-09-19T11:37:22.617Z"
   },
   {
    "duration": 16,
    "start_time": "2022-09-19T11:43:44.441Z"
   },
   {
    "duration": 14,
    "start_time": "2022-09-19T12:12:45.308Z"
   },
   {
    "duration": 29,
    "start_time": "2022-09-19T12:12:58.230Z"
   },
   {
    "duration": 9,
    "start_time": "2022-09-19T12:13:07.949Z"
   },
   {
    "duration": 49,
    "start_time": "2022-09-20T01:06:27.472Z"
   },
   {
    "duration": 575,
    "start_time": "2022-09-20T01:06:31.328Z"
   },
   {
    "duration": 10,
    "start_time": "2022-09-20T01:06:35.938Z"
   },
   {
    "duration": 10,
    "start_time": "2022-09-20T01:06:38.841Z"
   },
   {
    "duration": 39,
    "start_time": "2022-09-20T01:06:43.238Z"
   },
   {
    "duration": 6,
    "start_time": "2022-09-20T01:09:26.398Z"
   },
   {
    "duration": 5,
    "start_time": "2022-09-20T01:15:13.103Z"
   },
   {
    "duration": 100,
    "start_time": "2022-09-20T01:32:17.993Z"
   },
   {
    "duration": 28,
    "start_time": "2022-09-20T01:32:38.474Z"
   },
   {
    "duration": 31,
    "start_time": "2022-09-20T01:46:08.720Z"
   },
   {
    "duration": 7,
    "start_time": "2022-09-20T01:49:01.122Z"
   },
   {
    "duration": 71,
    "start_time": "2022-09-20T01:56:49.743Z"
   },
   {
    "duration": 62,
    "start_time": "2022-09-20T01:57:06.935Z"
   },
   {
    "duration": 757,
    "start_time": "2022-09-20T01:59:14.641Z"
   },
   {
    "duration": 1462,
    "start_time": "2022-09-20T02:01:34.077Z"
   },
   {
    "duration": 1549,
    "start_time": "2022-09-20T02:02:20.684Z"
   },
   {
    "duration": 1223,
    "start_time": "2022-09-20T02:02:47.482Z"
   },
   {
    "duration": 83,
    "start_time": "2022-09-20T02:02:55.830Z"
   },
   {
    "duration": 7,
    "start_time": "2022-09-20T02:02:58.863Z"
   },
   {
    "duration": 9,
    "start_time": "2022-09-20T02:03:02.467Z"
   },
   {
    "duration": 7,
    "start_time": "2022-09-20T02:03:04.531Z"
   },
   {
    "duration": 7,
    "start_time": "2022-09-20T02:03:12.882Z"
   },
   {
    "duration": 7,
    "start_time": "2022-09-20T02:03:24.992Z"
   },
   {
    "duration": 12,
    "start_time": "2022-09-20T02:03:40.439Z"
   },
   {
    "duration": 55,
    "start_time": "2022-09-20T02:05:59.832Z"
   },
   {
    "duration": 454,
    "start_time": "2022-09-20T02:06:02.907Z"
   },
   {
    "duration": 12,
    "start_time": "2022-09-20T02:06:06.440Z"
   },
   {
    "duration": 14,
    "start_time": "2022-09-20T02:06:08.939Z"
   },
   {
    "duration": 7,
    "start_time": "2022-09-20T02:06:15.567Z"
   },
   {
    "duration": 102,
    "start_time": "2022-09-20T02:06:57.238Z"
   },
   {
    "duration": 27,
    "start_time": "2022-09-20T02:07:04.010Z"
   },
   {
    "duration": 7,
    "start_time": "2022-09-20T02:07:09.408Z"
   },
   {
    "duration": 32,
    "start_time": "2022-09-20T02:07:17.626Z"
   },
   {
    "duration": 8,
    "start_time": "2022-09-20T02:08:45.605Z"
   },
   {
    "duration": 5,
    "start_time": "2022-09-20T02:09:56.164Z"
   },
   {
    "duration": 14,
    "start_time": "2022-09-20T02:10:05.033Z"
   },
   {
    "duration": 13,
    "start_time": "2022-09-20T02:12:03.830Z"
   },
   {
    "duration": 46,
    "start_time": "2022-09-20T02:14:00.037Z"
   },
   {
    "duration": 14,
    "start_time": "2022-09-20T02:15:41.087Z"
   },
   {
    "duration": 4,
    "start_time": "2022-09-20T02:17:33.332Z"
   },
   {
    "duration": 6,
    "start_time": "2022-09-20T02:24:39.736Z"
   },
   {
    "duration": 6,
    "start_time": "2022-09-20T02:24:55.768Z"
   },
   {
    "duration": 7,
    "start_time": "2022-09-20T02:25:46.283Z"
   },
   {
    "duration": 6,
    "start_time": "2022-09-20T02:25:53.177Z"
   },
   {
    "duration": 5,
    "start_time": "2022-09-20T02:26:36.681Z"
   },
   {
    "duration": 5,
    "start_time": "2022-09-20T02:26:38.736Z"
   },
   {
    "duration": 5,
    "start_time": "2022-09-20T02:28:03.134Z"
   },
   {
    "duration": 6,
    "start_time": "2022-09-20T02:28:07.689Z"
   },
   {
    "duration": 15,
    "start_time": "2022-09-20T02:28:28.138Z"
   },
   {
    "duration": 8,
    "start_time": "2022-09-20T03:13:50.844Z"
   },
   {
    "duration": 24,
    "start_time": "2022-09-20T03:14:00.193Z"
   },
   {
    "duration": 21,
    "start_time": "2022-09-20T03:14:15.254Z"
   },
   {
    "duration": 11,
    "start_time": "2022-09-20T10:19:23.175Z"
   },
   {
    "duration": 13,
    "start_time": "2022-09-20T10:20:06.261Z"
   },
   {
    "duration": 594,
    "start_time": "2022-09-20T10:20:14.686Z"
   },
   {
    "duration": 9,
    "start_time": "2022-09-20T10:20:46.394Z"
   },
   {
    "duration": 21,
    "start_time": "2022-09-20T10:21:12.966Z"
   },
   {
    "duration": 10,
    "start_time": "2022-09-20T10:21:20.728Z"
   },
   {
    "duration": 156,
    "start_time": "2022-09-20T10:21:26.493Z"
   },
   {
    "duration": 311,
    "start_time": "2022-09-20T10:21:52.833Z"
   },
   {
    "duration": 65,
    "start_time": "2022-09-20T10:22:44.158Z"
   },
   {
    "duration": 14,
    "start_time": "2022-09-20T10:22:55.438Z"
   },
   {
    "duration": 12,
    "start_time": "2022-09-20T10:23:37.013Z"
   },
   {
    "duration": 12,
    "start_time": "2022-09-20T10:23:45.222Z"
   },
   {
    "duration": 12,
    "start_time": "2022-09-20T10:25:00.275Z"
   },
   {
    "duration": 13,
    "start_time": "2022-09-20T10:25:09.510Z"
   },
   {
    "duration": 121,
    "start_time": "2022-09-20T10:25:12.422Z"
   },
   {
    "duration": 11,
    "start_time": "2022-09-20T10:25:12.545Z"
   },
   {
    "duration": 17,
    "start_time": "2022-09-20T10:25:12.558Z"
   },
   {
    "duration": 12,
    "start_time": "2022-09-20T10:25:12.577Z"
   },
   {
    "duration": 19,
    "start_time": "2022-09-20T10:25:12.591Z"
   },
   {
    "duration": 11,
    "start_time": "2022-09-20T10:25:12.612Z"
   },
   {
    "duration": 27,
    "start_time": "2022-09-20T10:25:12.625Z"
   },
   {
    "duration": 28,
    "start_time": "2022-09-20T10:25:12.654Z"
   },
   {
    "duration": 19,
    "start_time": "2022-09-20T10:25:12.683Z"
   },
   {
    "duration": 26,
    "start_time": "2022-09-20T10:25:12.704Z"
   },
   {
    "duration": 305,
    "start_time": "2022-09-20T10:25:12.732Z"
   },
   {
    "duration": 348,
    "start_time": "2022-09-20T10:25:21.493Z"
   },
   {
    "duration": 317,
    "start_time": "2022-09-20T10:25:26.263Z"
   },
   {
    "duration": 282,
    "start_time": "2022-09-20T10:25:50.996Z"
   },
   {
    "duration": 323,
    "start_time": "2022-09-20T10:25:56.564Z"
   },
   {
    "duration": 374,
    "start_time": "2022-09-20T10:26:02.129Z"
   },
   {
    "duration": 327,
    "start_time": "2022-09-20T10:26:05.672Z"
   },
   {
    "duration": 309,
    "start_time": "2022-09-20T10:26:09.242Z"
   },
   {
    "duration": 309,
    "start_time": "2022-09-20T10:26:12.722Z"
   },
   {
    "duration": 307,
    "start_time": "2022-09-20T10:26:20.855Z"
   },
   {
    "duration": 311,
    "start_time": "2022-09-20T10:26:36.629Z"
   },
   {
    "duration": 24,
    "start_time": "2022-09-20T10:26:59.240Z"
   },
   {
    "duration": 539,
    "start_time": "2022-09-20T10:27:08.004Z"
   },
   {
    "duration": 299,
    "start_time": "2022-09-20T10:27:15.610Z"
   },
   {
    "duration": 321,
    "start_time": "2022-09-20T10:27:20.415Z"
   },
   {
    "duration": 311,
    "start_time": "2022-09-20T10:27:25.170Z"
   },
   {
    "duration": 329,
    "start_time": "2022-09-20T10:27:36.623Z"
   },
   {
    "duration": 2261,
    "start_time": "2022-09-20T10:31:32.507Z"
   },
   {
    "duration": 162,
    "start_time": "2022-09-20T10:31:42.183Z"
   },
   {
    "duration": 171,
    "start_time": "2022-09-20T10:32:11.697Z"
   },
   {
    "duration": 50,
    "start_time": "2022-09-20T10:35:40.528Z"
   },
   {
    "duration": 739,
    "start_time": "2022-09-20T10:35:47.693Z"
   },
   {
    "duration": 6,
    "start_time": "2022-09-20T10:35:48.434Z"
   },
   {
    "duration": 17,
    "start_time": "2022-09-20T10:35:48.442Z"
   },
   {
    "duration": 11,
    "start_time": "2022-09-20T10:35:48.461Z"
   },
   {
    "duration": 12,
    "start_time": "2022-09-20T10:35:48.474Z"
   },
   {
    "duration": 15,
    "start_time": "2022-09-20T10:35:48.487Z"
   },
   {
    "duration": 8,
    "start_time": "2022-09-20T10:35:48.504Z"
   },
   {
    "duration": 10,
    "start_time": "2022-09-20T10:35:48.514Z"
   },
   {
    "duration": 16,
    "start_time": "2022-09-20T10:35:48.526Z"
   },
   {
    "duration": 23,
    "start_time": "2022-09-20T10:35:48.544Z"
   },
   {
    "duration": 329,
    "start_time": "2022-09-20T10:35:48.569Z"
   },
   {
    "duration": 708,
    "start_time": "2022-09-20T10:36:28.161Z"
   },
   {
    "duration": 6,
    "start_time": "2022-09-20T10:36:28.871Z"
   },
   {
    "duration": 12,
    "start_time": "2022-09-20T10:36:28.878Z"
   },
   {
    "duration": 7,
    "start_time": "2022-09-20T10:36:28.892Z"
   },
   {
    "duration": 8,
    "start_time": "2022-09-20T10:36:28.901Z"
   },
   {
    "duration": 14,
    "start_time": "2022-09-20T10:36:28.910Z"
   },
   {
    "duration": 6,
    "start_time": "2022-09-20T10:36:28.925Z"
   },
   {
    "duration": 27,
    "start_time": "2022-09-20T10:36:28.932Z"
   },
   {
    "duration": 12,
    "start_time": "2022-09-20T10:36:28.961Z"
   },
   {
    "duration": 18,
    "start_time": "2022-09-20T10:36:28.975Z"
   },
   {
    "duration": 339,
    "start_time": "2022-09-20T10:36:28.994Z"
   },
   {
    "duration": 185,
    "start_time": "2022-09-20T10:36:29.335Z"
   },
   {
    "duration": 2,
    "start_time": "2022-09-20T10:36:29.522Z"
   },
   {
    "duration": 684,
    "start_time": "2022-09-20T10:40:52.999Z"
   },
   {
    "duration": 6,
    "start_time": "2022-09-20T10:40:53.685Z"
   },
   {
    "duration": 22,
    "start_time": "2022-09-20T10:40:53.693Z"
   },
   {
    "duration": 17,
    "start_time": "2022-09-20T10:40:53.718Z"
   },
   {
    "duration": 13,
    "start_time": "2022-09-20T10:40:53.737Z"
   },
   {
    "duration": 7,
    "start_time": "2022-09-20T10:40:53.752Z"
   },
   {
    "duration": 22,
    "start_time": "2022-09-20T10:40:53.761Z"
   },
   {
    "duration": 7,
    "start_time": "2022-09-20T10:40:53.784Z"
   },
   {
    "duration": 9,
    "start_time": "2022-09-20T10:40:53.793Z"
   },
   {
    "duration": 22,
    "start_time": "2022-09-20T10:40:53.804Z"
   },
   {
    "duration": 326,
    "start_time": "2022-09-20T10:40:53.828Z"
   },
   {
    "duration": 184,
    "start_time": "2022-09-20T10:52:35.472Z"
   },
   {
    "duration": 167,
    "start_time": "2022-09-20T10:53:37.455Z"
   },
   {
    "duration": 491,
    "start_time": "2022-09-20T10:55:49.953Z"
   },
   {
    "duration": 130,
    "start_time": "2022-09-20T10:56:22.251Z"
   },
   {
    "duration": 298,
    "start_time": "2022-09-20T10:59:57.990Z"
   },
   {
    "duration": 466,
    "start_time": "2022-09-20T11:00:31.464Z"
   },
   {
    "duration": 312,
    "start_time": "2022-09-20T11:02:04.139Z"
   },
   {
    "duration": 96,
    "start_time": "2022-09-20T11:16:50.169Z"
   },
   {
    "duration": 328,
    "start_time": "2022-09-20T11:17:55.966Z"
   },
   {
    "duration": 16,
    "start_time": "2022-09-20T11:18:33.881Z"
   },
   {
    "duration": 66,
    "start_time": "2022-09-20T11:22:18.699Z"
   },
   {
    "duration": 70,
    "start_time": "2022-09-20T11:24:51.944Z"
   },
   {
    "duration": 12,
    "start_time": "2022-09-20T11:27:10.036Z"
   },
   {
    "duration": 11,
    "start_time": "2022-09-20T11:27:16.234Z"
   },
   {
    "duration": 667,
    "start_time": "2022-09-20T11:27:23.144Z"
   },
   {
    "duration": 44,
    "start_time": "2022-09-20T11:27:27.636Z"
   },
   {
    "duration": 11,
    "start_time": "2022-09-20T11:28:19.069Z"
   },
   {
    "duration": 86,
    "start_time": "2022-09-20T11:28:25.605Z"
   },
   {
    "duration": 5,
    "start_time": "2022-09-20T11:28:25.693Z"
   },
   {
    "duration": 14,
    "start_time": "2022-09-20T11:28:25.701Z"
   },
   {
    "duration": 9,
    "start_time": "2022-09-20T11:28:25.717Z"
   },
   {
    "duration": 28,
    "start_time": "2022-09-20T11:28:25.727Z"
   },
   {
    "duration": 13,
    "start_time": "2022-09-20T11:28:25.757Z"
   },
   {
    "duration": 31,
    "start_time": "2022-09-20T11:28:25.772Z"
   },
   {
    "duration": 15,
    "start_time": "2022-09-20T11:28:25.805Z"
   },
   {
    "duration": 27,
    "start_time": "2022-09-20T11:28:25.821Z"
   },
   {
    "duration": 41,
    "start_time": "2022-09-20T11:28:25.851Z"
   },
   {
    "duration": 329,
    "start_time": "2022-09-20T11:28:25.894Z"
   },
   {
    "duration": 104,
    "start_time": "2022-09-20T11:28:26.225Z"
   },
   {
    "duration": 474,
    "start_time": "2022-09-20T11:28:32.172Z"
   },
   {
    "duration": 6,
    "start_time": "2022-09-20T11:29:14.193Z"
   },
   {
    "duration": 496,
    "start_time": "2022-09-20T11:29:59.437Z"
   },
   {
    "duration": 235,
    "start_time": "2022-09-20T11:30:23.247Z"
   },
   {
    "duration": 543,
    "start_time": "2022-09-20T11:30:34.697Z"
   },
   {
    "duration": 472,
    "start_time": "2022-09-20T11:33:43.961Z"
   },
   {
    "duration": 522,
    "start_time": "2022-09-20T11:33:52.935Z"
   },
   {
    "duration": 489,
    "start_time": "2022-09-20T11:35:44.631Z"
   },
   {
    "duration": 495,
    "start_time": "2022-09-20T11:36:19.482Z"
   },
   {
    "duration": 463,
    "start_time": "2022-09-20T11:38:24.472Z"
   },
   {
    "duration": 504,
    "start_time": "2022-09-20T11:38:27.401Z"
   },
   {
    "duration": 594,
    "start_time": "2022-09-20T11:38:31.241Z"
   },
   {
    "duration": 749,
    "start_time": "2022-09-20T11:40:16.150Z"
   },
   {
    "duration": 6,
    "start_time": "2022-09-20T11:41:24.974Z"
   },
   {
    "duration": 863,
    "start_time": "2022-09-20T11:41:29.960Z"
   },
   {
    "duration": 745,
    "start_time": "2022-09-20T11:41:56.834Z"
   },
   {
    "duration": 763,
    "start_time": "2022-09-20T11:42:17.057Z"
   },
   {
    "duration": 785,
    "start_time": "2022-09-20T11:42:25.159Z"
   },
   {
    "duration": 794,
    "start_time": "2022-09-20T11:42:29.902Z"
   },
   {
    "duration": 851,
    "start_time": "2022-09-20T11:42:44.149Z"
   },
   {
    "duration": 1202,
    "start_time": "2022-09-20T11:43:11.061Z"
   },
   {
    "duration": 787,
    "start_time": "2022-09-20T11:43:42.199Z"
   },
   {
    "duration": 1094,
    "start_time": "2022-09-20T11:44:00.883Z"
   },
   {
    "duration": 6,
    "start_time": "2022-09-20T11:52:24.836Z"
   },
   {
    "duration": 30,
    "start_time": "2022-09-20T11:53:49.436Z"
   },
   {
    "duration": 7,
    "start_time": "2022-09-20T11:54:56.832Z"
   },
   {
    "duration": 70,
    "start_time": "2022-09-20T11:55:31.728Z"
   },
   {
    "duration": 8,
    "start_time": "2022-09-20T11:55:35.325Z"
   },
   {
    "duration": 974,
    "start_time": "2022-09-20T11:56:18.351Z"
   },
   {
    "duration": 1051,
    "start_time": "2022-09-20T11:56:31.692Z"
   },
   {
    "duration": 12,
    "start_time": "2022-09-20T11:57:34.870Z"
   },
   {
    "duration": 17,
    "start_time": "2022-09-20T11:58:50.788Z"
   },
   {
    "duration": 19,
    "start_time": "2022-09-20T11:59:16.232Z"
   },
   {
    "duration": 1284,
    "start_time": "2022-09-20T11:59:50.554Z"
   },
   {
    "duration": 13,
    "start_time": "2022-09-20T12:00:00.830Z"
   },
   {
    "duration": 27,
    "start_time": "2022-09-20T12:00:55.346Z"
   },
   {
    "duration": 15,
    "start_time": "2022-09-20T12:01:13.389Z"
   },
   {
    "duration": 17,
    "start_time": "2022-09-20T12:01:49.829Z"
   },
   {
    "duration": 15,
    "start_time": "2022-09-20T12:02:08.921Z"
   },
   {
    "duration": 289,
    "start_time": "2022-09-20T12:05:31.629Z"
   },
   {
    "duration": 13,
    "start_time": "2022-09-20T12:05:46.610Z"
   },
   {
    "duration": 8,
    "start_time": "2022-09-20T12:05:53.529Z"
   },
   {
    "duration": 11,
    "start_time": "2022-09-20T12:06:40.849Z"
   },
   {
    "duration": 30,
    "start_time": "2022-09-20T12:07:55.646Z"
   },
   {
    "duration": 51,
    "start_time": "2022-09-20T12:08:56.623Z"
   },
   {
    "duration": 32,
    "start_time": "2022-09-20T12:09:03.818Z"
   },
   {
    "duration": 36,
    "start_time": "2022-09-20T12:09:43.219Z"
   },
   {
    "duration": 11,
    "start_time": "2022-09-20T12:11:33.618Z"
   },
   {
    "duration": 19,
    "start_time": "2022-09-20T12:11:43.314Z"
   },
   {
    "duration": 19,
    "start_time": "2022-09-20T12:11:55.756Z"
   },
   {
    "duration": 21,
    "start_time": "2022-09-20T12:12:30.839Z"
   },
   {
    "duration": 22,
    "start_time": "2022-09-20T12:13:49.413Z"
   },
   {
    "duration": 62,
    "start_time": "2022-09-20T12:15:27.745Z"
   },
   {
    "duration": 43,
    "start_time": "2022-09-20T12:15:49.309Z"
   },
   {
    "duration": 29,
    "start_time": "2022-09-20T12:16:52.631Z"
   },
   {
    "duration": 53,
    "start_time": "2022-09-20T12:17:21.501Z"
   },
   {
    "duration": 59,
    "start_time": "2022-09-20T12:17:58.924Z"
   },
   {
    "duration": 44,
    "start_time": "2022-09-20T12:18:34.565Z"
   },
   {
    "duration": 60,
    "start_time": "2022-09-20T12:18:42.464Z"
   },
   {
    "duration": 58,
    "start_time": "2022-09-20T12:18:57.125Z"
   },
   {
    "duration": 54,
    "start_time": "2022-09-20T12:19:05.734Z"
   },
   {
    "duration": 16,
    "start_time": "2022-09-20T12:19:11.990Z"
   },
   {
    "duration": 70,
    "start_time": "2022-09-20T12:20:15.916Z"
   },
   {
    "duration": 47,
    "start_time": "2022-09-20T12:20:34.696Z"
   },
   {
    "duration": 49,
    "start_time": "2022-09-20T12:20:39.513Z"
   },
   {
    "duration": 46,
    "start_time": "2022-09-20T12:20:44.824Z"
   },
   {
    "duration": 56,
    "start_time": "2022-09-20T12:21:46.845Z"
   },
   {
    "duration": 45,
    "start_time": "2022-09-20T12:22:10.208Z"
   },
   {
    "duration": 19,
    "start_time": "2022-09-20T12:23:03.577Z"
   },
   {
    "duration": 11,
    "start_time": "2022-09-20T12:23:35.287Z"
   },
   {
    "duration": 21,
    "start_time": "2022-09-20T12:26:37.380Z"
   },
   {
    "duration": 9,
    "start_time": "2022-09-20T12:28:05.120Z"
   },
   {
    "duration": 11,
    "start_time": "2022-09-20T12:28:09.328Z"
   },
   {
    "duration": 15,
    "start_time": "2022-09-20T12:28:40.921Z"
   },
   {
    "duration": 45,
    "start_time": "2022-09-22T08:44:43.185Z"
   },
   {
    "duration": 1667,
    "start_time": "2022-09-22T08:44:47.171Z"
   },
   {
    "duration": 7,
    "start_time": "2022-09-22T08:44:48.840Z"
   },
   {
    "duration": 12,
    "start_time": "2022-09-22T08:44:48.848Z"
   },
   {
    "duration": 6,
    "start_time": "2022-09-22T08:44:48.862Z"
   },
   {
    "duration": 5,
    "start_time": "2022-09-22T08:44:48.870Z"
   },
   {
    "duration": 7,
    "start_time": "2022-09-22T08:44:48.877Z"
   },
   {
    "duration": 11,
    "start_time": "2022-09-22T08:44:48.886Z"
   },
   {
    "duration": 5,
    "start_time": "2022-09-22T08:44:48.898Z"
   },
   {
    "duration": 9,
    "start_time": "2022-09-22T08:44:48.905Z"
   },
   {
    "duration": 17,
    "start_time": "2022-09-22T08:44:48.915Z"
   },
   {
    "duration": 345,
    "start_time": "2022-09-22T08:44:48.934Z"
   },
   {
    "duration": 973,
    "start_time": "2022-09-22T08:44:49.281Z"
   },
   {
    "duration": 15,
    "start_time": "2022-09-22T08:44:50.256Z"
   },
   {
    "duration": 22,
    "start_time": "2022-09-22T08:44:50.273Z"
   },
   {
    "duration": 25,
    "start_time": "2022-09-22T08:44:50.297Z"
   },
   {
    "duration": 82,
    "start_time": "2022-09-22T08:51:54.256Z"
   },
   {
    "duration": 25,
    "start_time": "2022-09-22T08:52:09.019Z"
   },
   {
    "duration": 12,
    "start_time": "2022-09-22T08:52:30.328Z"
   },
   {
    "duration": 4,
    "start_time": "2022-09-22T08:52:37.557Z"
   },
   {
    "duration": 15,
    "start_time": "2022-09-22T08:52:47.133Z"
   },
   {
    "duration": 20,
    "start_time": "2022-09-22T08:52:58.452Z"
   },
   {
    "duration": 153,
    "start_time": "2022-09-22T08:55:07.655Z"
   },
   {
    "duration": 20,
    "start_time": "2022-09-22T08:55:24.317Z"
   },
   {
    "duration": 19,
    "start_time": "2022-09-22T08:56:26.150Z"
   },
   {
    "duration": 303,
    "start_time": "2022-09-22T08:56:31.702Z"
   },
   {
    "duration": 70,
    "start_time": "2022-09-22T08:58:24.751Z"
   },
   {
    "duration": 3,
    "start_time": "2022-09-22T08:58:30.643Z"
   },
   {
    "duration": 82,
    "start_time": "2022-09-22T08:58:34.598Z"
   },
   {
    "duration": 335,
    "start_time": "2022-09-22T08:58:58.361Z"
   },
   {
    "duration": 416,
    "start_time": "2022-09-22T08:59:05.220Z"
   },
   {
    "duration": 24,
    "start_time": "2022-09-22T09:00:43.643Z"
   },
   {
    "duration": 22,
    "start_time": "2022-09-22T09:04:07.964Z"
   },
   {
    "duration": 384,
    "start_time": "2022-09-22T09:04:55.878Z"
   },
   {
    "duration": 344,
    "start_time": "2022-09-22T09:05:07.167Z"
   },
   {
    "duration": 13,
    "start_time": "2022-09-22T09:09:11.246Z"
   },
   {
    "duration": 20,
    "start_time": "2022-09-22T09:09:18.681Z"
   },
   {
    "duration": 11,
    "start_time": "2022-09-22T09:11:01.140Z"
   },
   {
    "duration": 9,
    "start_time": "2022-09-22T09:12:40.233Z"
   },
   {
    "duration": 13,
    "start_time": "2022-09-22T09:14:03.705Z"
   },
   {
    "duration": 21,
    "start_time": "2022-09-22T09:14:10.333Z"
   },
   {
    "duration": 33,
    "start_time": "2022-09-22T09:14:26.505Z"
   },
   {
    "duration": 22,
    "start_time": "2022-09-22T09:14:42.091Z"
   },
   {
    "duration": 23,
    "start_time": "2022-09-22T09:14:47.569Z"
   },
   {
    "duration": 9,
    "start_time": "2022-09-22T09:14:51.550Z"
   },
   {
    "duration": 10,
    "start_time": "2022-09-22T09:15:16.940Z"
   },
   {
    "duration": 8,
    "start_time": "2022-09-22T09:17:10.000Z"
   },
   {
    "duration": 15,
    "start_time": "2022-09-22T09:20:30.010Z"
   },
   {
    "duration": 9,
    "start_time": "2022-09-22T09:27:23.758Z"
   },
   {
    "duration": 28,
    "start_time": "2022-09-22T09:27:26.588Z"
   },
   {
    "duration": 9,
    "start_time": "2022-09-22T09:27:29.225Z"
   },
   {
    "duration": 21,
    "start_time": "2022-09-22T09:28:12.211Z"
   },
   {
    "duration": 8,
    "start_time": "2022-09-22T09:28:15.586Z"
   },
   {
    "duration": 24,
    "start_time": "2022-09-22T09:28:59.172Z"
   },
   {
    "duration": 10,
    "start_time": "2022-09-22T09:29:05.533Z"
   },
   {
    "duration": 24,
    "start_time": "2022-09-22T09:29:14.422Z"
   },
   {
    "duration": 8,
    "start_time": "2022-09-22T09:29:21.646Z"
   },
   {
    "duration": 21,
    "start_time": "2022-09-22T09:29:43.554Z"
   },
   {
    "duration": 12,
    "start_time": "2022-09-22T09:29:46.486Z"
   },
   {
    "duration": 31,
    "start_time": "2022-09-22T09:34:53.324Z"
   },
   {
    "duration": 9,
    "start_time": "2022-09-22T09:34:56.159Z"
   },
   {
    "duration": 23,
    "start_time": "2022-09-22T09:35:47.654Z"
   },
   {
    "duration": 8,
    "start_time": "2022-09-22T09:35:53.554Z"
   },
   {
    "duration": 9,
    "start_time": "2022-09-22T09:36:29.030Z"
   },
   {
    "duration": 1383,
    "start_time": "2022-09-22T09:42:56.638Z"
   },
   {
    "duration": 1419,
    "start_time": "2022-09-22T09:43:27.918Z"
   },
   {
    "duration": 22,
    "start_time": "2022-09-22T09:44:53.379Z"
   },
   {
    "duration": 5,
    "start_time": "2022-09-22T09:45:04.929Z"
   },
   {
    "duration": 15,
    "start_time": "2022-09-22T09:45:07.779Z"
   },
   {
    "duration": 34,
    "start_time": "2022-09-22T09:45:40.754Z"
   },
   {
    "duration": 32,
    "start_time": "2022-09-22T09:45:54.308Z"
   },
   {
    "duration": 10,
    "start_time": "2022-09-22T09:49:31.457Z"
   },
   {
    "duration": 9,
    "start_time": "2022-09-22T09:50:19.926Z"
   },
   {
    "duration": 9,
    "start_time": "2022-09-22T09:52:19.084Z"
   },
   {
    "duration": 10,
    "start_time": "2022-09-22T09:52:26.958Z"
   },
   {
    "duration": 13,
    "start_time": "2022-09-22T09:52:41.420Z"
   },
   {
    "duration": 18,
    "start_time": "2022-09-22T09:53:02.794Z"
   },
   {
    "duration": 14,
    "start_time": "2022-09-22T09:54:16.883Z"
   },
   {
    "duration": 13,
    "start_time": "2022-09-22T09:54:51.753Z"
   },
   {
    "duration": 16,
    "start_time": "2022-09-22T09:55:16.533Z"
   },
   {
    "duration": 14,
    "start_time": "2022-09-22T09:55:25.983Z"
   },
   {
    "duration": 12,
    "start_time": "2022-09-22T09:56:48.573Z"
   },
   {
    "duration": 37,
    "start_time": "2022-09-22T10:00:33.253Z"
   },
   {
    "duration": 9,
    "start_time": "2022-09-22T10:07:20.231Z"
   },
   {
    "duration": 4,
    "start_time": "2022-09-22T10:09:16.300Z"
   },
   {
    "duration": 37,
    "start_time": "2022-09-22T10:09:57.940Z"
   },
   {
    "duration": 48,
    "start_time": "2022-09-22T10:10:37.949Z"
   },
   {
    "duration": 46,
    "start_time": "2022-09-22T10:10:42.405Z"
   },
   {
    "duration": 38,
    "start_time": "2022-09-22T10:13:57.415Z"
   },
   {
    "duration": 37,
    "start_time": "2022-09-22T10:14:15.868Z"
   },
   {
    "duration": 35,
    "start_time": "2022-09-22T10:14:32.732Z"
   },
   {
    "duration": 48,
    "start_time": "2022-09-22T10:14:39.227Z"
   },
   {
    "duration": 40,
    "start_time": "2022-09-22T10:15:27.057Z"
   },
   {
    "duration": 38,
    "start_time": "2022-09-22T10:18:35.698Z"
   },
   {
    "duration": 35,
    "start_time": "2022-09-22T10:19:23.273Z"
   },
   {
    "duration": 39,
    "start_time": "2022-09-22T10:19:28.810Z"
   },
   {
    "duration": 75,
    "start_time": "2022-09-22T10:19:31.551Z"
   },
   {
    "duration": 38,
    "start_time": "2022-09-22T10:19:33.748Z"
   },
   {
    "duration": 36,
    "start_time": "2022-09-22T10:19:50.390Z"
   },
   {
    "duration": 38,
    "start_time": "2022-09-22T10:20:09.147Z"
   },
   {
    "duration": 38,
    "start_time": "2022-09-22T10:21:50.155Z"
   },
   {
    "duration": 72,
    "start_time": "2022-09-22T10:22:28.075Z"
   },
   {
    "duration": 3,
    "start_time": "2022-09-22T10:22:32.650Z"
   },
   {
    "duration": 27,
    "start_time": "2022-09-22T10:22:46.305Z"
   },
   {
    "duration": 7,
    "start_time": "2022-09-22T10:23:07.720Z"
   },
   {
    "duration": 109,
    "start_time": "2022-09-22T10:23:26.551Z"
   },
   {
    "duration": 3,
    "start_time": "2022-09-22T10:23:41.890Z"
   },
   {
    "duration": 8,
    "start_time": "2022-09-22T10:23:55.790Z"
   },
   {
    "duration": 13,
    "start_time": "2022-09-22T10:24:47.975Z"
   },
   {
    "duration": 321,
    "start_time": "2022-09-22T10:27:07.815Z"
   },
   {
    "duration": 1132,
    "start_time": "2022-09-22T10:27:11.422Z"
   },
   {
    "duration": 1192,
    "start_time": "2022-09-22T10:28:45.404Z"
   },
   {
    "duration": 23,
    "start_time": "2022-09-22T10:31:29.657Z"
   },
   {
    "duration": 40,
    "start_time": "2022-09-22T10:31:31.997Z"
   },
   {
    "duration": 37,
    "start_time": "2022-09-22T10:34:09.101Z"
   },
   {
    "duration": 44,
    "start_time": "2022-09-22T10:34:20.070Z"
   },
   {
    "duration": 37,
    "start_time": "2022-09-22T10:36:24.009Z"
   },
   {
    "duration": 36,
    "start_time": "2022-09-22T10:36:32.917Z"
   },
   {
    "duration": 38,
    "start_time": "2022-09-22T10:36:44.296Z"
   },
   {
    "duration": 96,
    "start_time": "2022-09-22T10:46:32.782Z"
   },
   {
    "duration": 5,
    "start_time": "2022-09-22T10:47:41.494Z"
   },
   {
    "duration": 5,
    "start_time": "2022-09-22T10:47:49.081Z"
   },
   {
    "duration": 8,
    "start_time": "2022-09-22T10:48:19.645Z"
   },
   {
    "duration": 4,
    "start_time": "2022-09-22T10:48:38.674Z"
   },
   {
    "duration": 4,
    "start_time": "2022-09-22T10:48:42.337Z"
   },
   {
    "duration": 4,
    "start_time": "2022-09-22T10:49:33.110Z"
   },
   {
    "duration": 5,
    "start_time": "2022-09-22T10:49:37.749Z"
   },
   {
    "duration": 74,
    "start_time": "2022-09-22T10:49:45.233Z"
   },
   {
    "duration": 101,
    "start_time": "2022-09-22T10:49:49.741Z"
   },
   {
    "duration": 5,
    "start_time": "2022-09-22T10:49:53.665Z"
   },
   {
    "duration": 5,
    "start_time": "2022-09-22T10:50:21.965Z"
   },
   {
    "duration": 5,
    "start_time": "2022-09-22T10:50:25.083Z"
   },
   {
    "duration": 4,
    "start_time": "2022-09-22T10:51:00.025Z"
   },
   {
    "duration": 21,
    "start_time": "2022-09-22T10:52:35.196Z"
   },
   {
    "duration": 31,
    "start_time": "2022-09-22T10:55:38.896Z"
   },
   {
    "duration": 22,
    "start_time": "2022-09-22T10:58:49.988Z"
   },
   {
    "duration": 11,
    "start_time": "2022-09-22T10:58:59.953Z"
   },
   {
    "duration": 14,
    "start_time": "2022-09-22T10:59:08.376Z"
   },
   {
    "duration": 93,
    "start_time": "2022-09-22T10:59:11.416Z"
   },
   {
    "duration": 15,
    "start_time": "2022-09-22T10:59:12.999Z"
   },
   {
    "duration": 20,
    "start_time": "2022-09-22T10:59:42.626Z"
   },
   {
    "duration": 19,
    "start_time": "2022-09-22T11:00:09.065Z"
   },
   {
    "duration": 1237,
    "start_time": "2022-09-22T11:01:06.285Z"
   },
   {
    "duration": 20,
    "start_time": "2022-09-22T11:11:37.941Z"
   },
   {
    "duration": 80,
    "start_time": "2022-09-22T11:21:54.636Z"
   },
   {
    "duration": 4,
    "start_time": "2022-09-22T11:22:47.039Z"
   },
   {
    "duration": 4,
    "start_time": "2022-09-22T11:22:53.662Z"
   },
   {
    "duration": 11,
    "start_time": "2022-09-22T11:25:18.404Z"
   },
   {
    "duration": 9,
    "start_time": "2022-09-22T11:25:32.394Z"
   },
   {
    "duration": 10,
    "start_time": "2022-09-22T11:25:42.878Z"
   },
   {
    "duration": 4,
    "start_time": "2022-09-22T11:26:43.229Z"
   },
   {
    "duration": 45,
    "start_time": "2022-09-22T11:28:28.937Z"
   },
   {
    "duration": 10,
    "start_time": "2022-09-22T11:30:27.781Z"
   },
   {
    "duration": 13,
    "start_time": "2022-09-22T11:32:26.791Z"
   },
   {
    "duration": 6,
    "start_time": "2022-09-22T11:33:34.419Z"
   },
   {
    "duration": 5,
    "start_time": "2022-09-22T11:33:41.553Z"
   },
   {
    "duration": 44,
    "start_time": "2022-09-22T11:34:08.829Z"
   },
   {
    "duration": 9,
    "start_time": "2022-09-22T11:34:13.294Z"
   },
   {
    "duration": 40,
    "start_time": "2022-09-22T11:34:41.871Z"
   },
   {
    "duration": 3,
    "start_time": "2022-09-22T11:35:05.021Z"
   },
   {
    "duration": 4,
    "start_time": "2022-09-22T11:35:09.163Z"
   },
   {
    "duration": 4,
    "start_time": "2022-09-22T11:35:15.283Z"
   },
   {
    "duration": 1498,
    "start_time": "2022-09-23T03:11:45.598Z"
   },
   {
    "duration": 17,
    "start_time": "2022-09-23T03:11:47.098Z"
   },
   {
    "duration": 5,
    "start_time": "2022-09-23T03:11:47.117Z"
   },
   {
    "duration": 10,
    "start_time": "2022-09-23T03:11:47.124Z"
   },
   {
    "duration": 7,
    "start_time": "2022-09-23T03:11:47.136Z"
   },
   {
    "duration": 6,
    "start_time": "2022-09-23T03:11:47.145Z"
   },
   {
    "duration": 9,
    "start_time": "2022-09-23T03:11:47.153Z"
   },
   {
    "duration": 7,
    "start_time": "2022-09-23T03:11:47.163Z"
   },
   {
    "duration": 8,
    "start_time": "2022-09-23T03:11:47.172Z"
   },
   {
    "duration": 8,
    "start_time": "2022-09-23T03:11:47.211Z"
   },
   {
    "duration": 16,
    "start_time": "2022-09-23T03:11:47.220Z"
   },
   {
    "duration": 310,
    "start_time": "2022-09-23T03:11:47.238Z"
   },
   {
    "duration": 941,
    "start_time": "2022-09-23T03:11:47.549Z"
   },
   {
    "duration": 24,
    "start_time": "2022-09-23T03:11:48.491Z"
   },
   {
    "duration": 980,
    "start_time": "2022-09-23T03:11:48.517Z"
   },
   {
    "duration": 42,
    "start_time": "2022-09-23T03:11:49.498Z"
   },
   {
    "duration": 4,
    "start_time": "2022-09-23T03:11:49.541Z"
   },
   {
    "duration": 63,
    "start_time": "2022-09-23T03:11:49.546Z"
   },
   {
    "duration": 4,
    "start_time": "2022-09-23T03:11:49.610Z"
   },
   {
    "duration": 9,
    "start_time": "2022-09-23T03:11:49.616Z"
   },
   {
    "duration": 8,
    "start_time": "2022-09-23T03:11:49.627Z"
   },
   {
    "duration": 6,
    "start_time": "2022-09-23T03:11:49.637Z"
   },
   {
    "duration": 14,
    "start_time": "2022-09-23T03:11:49.644Z"
   },
   {
    "duration": 21,
    "start_time": "2022-09-23T03:20:58.515Z"
   },
   {
    "duration": 5,
    "start_time": "2022-09-23T03:21:17.927Z"
   },
   {
    "duration": 357,
    "start_time": "2022-09-23T03:23:18.141Z"
   },
   {
    "duration": 647,
    "start_time": "2022-09-23T03:25:59.317Z"
   },
   {
    "duration": 555,
    "start_time": "2022-09-23T03:29:53.511Z"
   },
   {
    "duration": 581,
    "start_time": "2022-09-23T03:30:15.895Z"
   },
   {
    "duration": 119,
    "start_time": "2022-09-23T03:36:57.941Z"
   },
   {
    "duration": 97,
    "start_time": "2022-09-23T03:38:07.820Z"
   },
   {
    "duration": 193,
    "start_time": "2022-09-23T03:39:42.970Z"
   },
   {
    "duration": 189,
    "start_time": "2022-09-23T03:43:07.376Z"
   },
   {
    "duration": 301,
    "start_time": "2022-09-23T03:43:14.636Z"
   },
   {
    "duration": 239,
    "start_time": "2022-09-23T03:43:33.333Z"
   },
   {
    "duration": 206,
    "start_time": "2022-09-23T03:50:22.282Z"
   },
   {
    "duration": 225,
    "start_time": "2022-09-23T03:50:40.714Z"
   },
   {
    "duration": 52,
    "start_time": "2022-09-23T03:52:23.960Z"
   },
   {
    "duration": 534,
    "start_time": "2022-09-23T03:52:28.097Z"
   },
   {
    "duration": 714,
    "start_time": "2022-09-23T03:52:35.880Z"
   },
   {
    "duration": 11807,
    "start_time": "2022-09-23T03:52:41.554Z"
   },
   {
    "duration": 1189,
    "start_time": "2022-09-23T03:53:14.008Z"
   },
   {
    "duration": 376,
    "start_time": "2022-09-23T03:53:18.013Z"
   },
   {
    "duration": 305,
    "start_time": "2022-09-23T03:53:25.587Z"
   },
   {
    "duration": 382,
    "start_time": "2022-09-23T03:53:30.895Z"
   },
   {
    "duration": 285,
    "start_time": "2022-09-23T03:53:35.052Z"
   },
   {
    "duration": 245,
    "start_time": "2022-09-23T03:53:37.743Z"
   },
   {
    "duration": 261,
    "start_time": "2022-09-23T03:53:51.245Z"
   },
   {
    "duration": 459,
    "start_time": "2022-09-23T03:54:47.633Z"
   },
   {
    "duration": 265,
    "start_time": "2022-09-23T03:55:00.895Z"
   },
   {
    "duration": 8,
    "start_time": "2022-09-23T03:55:18.209Z"
   },
   {
    "duration": 211,
    "start_time": "2022-09-23T03:55:56.345Z"
   },
   {
    "duration": 2171,
    "start_time": "2022-09-23T03:56:27.348Z"
   },
   {
    "duration": 11,
    "start_time": "2022-09-23T03:56:37.814Z"
   },
   {
    "duration": 166,
    "start_time": "2022-09-23T03:56:43.412Z"
   },
   {
    "duration": 237,
    "start_time": "2022-09-23T03:57:48.501Z"
   },
   {
    "duration": 252,
    "start_time": "2022-09-23T03:57:56.992Z"
   },
   {
    "duration": 313,
    "start_time": "2022-09-23T03:58:06.833Z"
   },
   {
    "duration": 219,
    "start_time": "2022-09-23T04:18:54.817Z"
   },
   {
    "duration": 22,
    "start_time": "2022-09-23T05:48:12.336Z"
   },
   {
    "duration": 23,
    "start_time": "2022-09-23T05:49:30.587Z"
   },
   {
    "duration": 9,
    "start_time": "2022-09-23T05:53:26.889Z"
   },
   {
    "duration": 8,
    "start_time": "2022-09-23T05:53:33.925Z"
   },
   {
    "duration": 136,
    "start_time": "2022-09-23T05:53:35.545Z"
   },
   {
    "duration": 128,
    "start_time": "2022-09-23T05:53:57.345Z"
   },
   {
    "duration": 144,
    "start_time": "2022-09-23T05:54:08.334Z"
   },
   {
    "duration": 131,
    "start_time": "2022-09-23T05:54:33.129Z"
   },
   {
    "duration": 131,
    "start_time": "2022-09-23T05:54:38.887Z"
   },
   {
    "duration": 126,
    "start_time": "2022-09-23T05:56:56.626Z"
   },
   {
    "duration": 63,
    "start_time": "2022-09-23T06:03:03.490Z"
   },
   {
    "duration": 13,
    "start_time": "2022-09-23T06:03:07.724Z"
   },
   {
    "duration": 11,
    "start_time": "2022-09-23T06:03:15.555Z"
   },
   {
    "duration": 13,
    "start_time": "2022-09-23T06:08:10.945Z"
   },
   {
    "duration": 122,
    "start_time": "2022-09-23T06:08:20.596Z"
   },
   {
    "duration": 9,
    "start_time": "2022-09-23T06:08:36.555Z"
   },
   {
    "duration": 10,
    "start_time": "2022-09-23T06:08:48.237Z"
   },
   {
    "duration": 142,
    "start_time": "2022-09-23T06:09:12.913Z"
   },
   {
    "duration": 14,
    "start_time": "2022-09-23T06:29:22.127Z"
   },
   {
    "duration": 14,
    "start_time": "2022-09-23T06:29:44.086Z"
   },
   {
    "duration": 16,
    "start_time": "2022-09-23T06:29:55.770Z"
   },
   {
    "duration": 35458,
    "start_time": "2022-09-23T06:30:08.198Z"
   },
   {
    "duration": 7359,
    "start_time": "2022-09-23T06:31:22.602Z"
   },
   {
    "duration": 7077,
    "start_time": "2022-09-23T06:31:54.819Z"
   },
   {
    "duration": 261,
    "start_time": "2022-09-23T06:32:18.619Z"
   },
   {
    "duration": 14,
    "start_time": "2022-09-23T06:32:35.648Z"
   },
   {
    "duration": 9,
    "start_time": "2022-09-23T06:33:22.891Z"
   },
   {
    "duration": 10,
    "start_time": "2022-09-23T06:33:27.384Z"
   },
   {
    "duration": 7630,
    "start_time": "2022-09-23T06:33:35.495Z"
   },
   {
    "duration": 13,
    "start_time": "2022-09-23T06:37:02.763Z"
   },
   {
    "duration": 202,
    "start_time": "2022-09-23T06:37:21.111Z"
   },
   {
    "duration": 177,
    "start_time": "2022-09-23T06:37:38.562Z"
   },
   {
    "duration": 202,
    "start_time": "2022-09-23T06:37:44.718Z"
   },
   {
    "duration": 225,
    "start_time": "2022-09-23T06:37:52.871Z"
   },
   {
    "duration": 214,
    "start_time": "2022-09-23T06:37:56.101Z"
   },
   {
    "duration": 199,
    "start_time": "2022-09-23T06:40:21.238Z"
   },
   {
    "duration": 211,
    "start_time": "2022-09-23T06:40:26.207Z"
   },
   {
    "duration": 331,
    "start_time": "2022-09-23T06:43:10.761Z"
   },
   {
    "duration": 287,
    "start_time": "2022-09-23T06:43:29.647Z"
   },
   {
    "duration": 248,
    "start_time": "2022-09-23T06:44:08.230Z"
   },
   {
    "duration": 222,
    "start_time": "2022-09-23T06:44:13.854Z"
   },
   {
    "duration": 11,
    "start_time": "2022-09-23T06:46:45.419Z"
   },
   {
    "duration": 281,
    "start_time": "2022-09-23T06:46:51.707Z"
   },
   {
    "duration": 215,
    "start_time": "2022-09-23T06:48:24.569Z"
   },
   {
    "duration": 13,
    "start_time": "2022-09-23T07:29:09.212Z"
   },
   {
    "duration": 6,
    "start_time": "2022-09-23T07:44:24.936Z"
   },
   {
    "duration": 12,
    "start_time": "2022-09-23T07:46:26.161Z"
   },
   {
    "duration": 12,
    "start_time": "2022-09-23T07:47:55.344Z"
   },
   {
    "duration": 178,
    "start_time": "2022-09-23T07:48:09.727Z"
   },
   {
    "duration": 220,
    "start_time": "2022-09-23T08:37:24.533Z"
   },
   {
    "duration": 348,
    "start_time": "2022-09-23T08:38:21.693Z"
   },
   {
    "duration": 223,
    "start_time": "2022-09-23T08:38:39.975Z"
   },
   {
    "duration": 211,
    "start_time": "2022-09-23T08:39:00.290Z"
   },
   {
    "duration": 25,
    "start_time": "2022-09-23T08:42:25.718Z"
   },
   {
    "duration": 27,
    "start_time": "2022-09-23T08:42:50.474Z"
   },
   {
    "duration": 189,
    "start_time": "2022-09-23T08:43:04.633Z"
   },
   {
    "duration": 172,
    "start_time": "2022-09-23T08:44:43.623Z"
   },
   {
    "duration": 188,
    "start_time": "2022-09-23T09:47:55.374Z"
   },
   {
    "duration": 247,
    "start_time": "2022-09-23T09:48:29.490Z"
   },
   {
    "duration": 226,
    "start_time": "2022-09-23T09:48:41.535Z"
   },
   {
    "duration": 373,
    "start_time": "2022-09-23T09:50:12.075Z"
   },
   {
    "duration": 392,
    "start_time": "2022-09-23T09:50:25.274Z"
   },
   {
    "duration": 519,
    "start_time": "2022-09-23T09:50:38.425Z"
   },
   {
    "duration": 528,
    "start_time": "2022-09-23T09:50:49.870Z"
   },
   {
    "duration": 229,
    "start_time": "2022-09-23T09:51:39.055Z"
   },
   {
    "duration": 248,
    "start_time": "2022-09-23T09:52:38.105Z"
   },
   {
    "duration": 247,
    "start_time": "2022-09-23T09:55:53.267Z"
   },
   {
    "duration": 251,
    "start_time": "2022-09-23T09:56:10.598Z"
   },
   {
    "duration": 63,
    "start_time": "2022-09-23T09:56:32.660Z"
   },
   {
    "duration": 75,
    "start_time": "2022-09-23T09:56:41.896Z"
   },
   {
    "duration": 50,
    "start_time": "2022-09-23T09:56:47.331Z"
   },
   {
    "duration": 56,
    "start_time": "2022-09-23T09:56:54.321Z"
   },
   {
    "duration": 239,
    "start_time": "2022-09-23T09:57:07.535Z"
   },
   {
    "duration": 248,
    "start_time": "2022-09-23T09:57:58.566Z"
   },
   {
    "duration": 299,
    "start_time": "2022-09-23T09:58:13.204Z"
   },
   {
    "duration": 251,
    "start_time": "2022-09-23T09:58:23.629Z"
   },
   {
    "duration": 254,
    "start_time": "2022-09-23T09:58:49.147Z"
   },
   {
    "duration": 247,
    "start_time": "2022-09-23T09:59:50.753Z"
   },
   {
    "duration": 240,
    "start_time": "2022-09-23T10:00:06.697Z"
   },
   {
    "duration": 244,
    "start_time": "2022-09-23T10:00:11.585Z"
   },
   {
    "duration": 238,
    "start_time": "2022-09-23T10:00:16.928Z"
   },
   {
    "duration": 6,
    "start_time": "2022-09-23T10:07:15.868Z"
   },
   {
    "duration": 3619,
    "start_time": "2022-09-23T10:07:41.860Z"
   },
   {
    "duration": 9,
    "start_time": "2022-09-23T10:08:28.048Z"
   },
   {
    "duration": 134,
    "start_time": "2022-09-23T10:09:05.683Z"
   },
   {
    "duration": 7,
    "start_time": "2022-09-23T10:09:46.218Z"
   },
   {
    "duration": 6,
    "start_time": "2022-09-23T10:11:43.956Z"
   },
   {
    "duration": 7,
    "start_time": "2022-09-23T10:11:52.523Z"
   },
   {
    "duration": 128,
    "start_time": "2022-09-23T10:12:08.910Z"
   },
   {
    "duration": 112,
    "start_time": "2022-09-23T10:12:35.687Z"
   },
   {
    "duration": 7,
    "start_time": "2022-09-23T10:16:49.866Z"
   },
   {
    "duration": 110,
    "start_time": "2022-09-23T10:17:07.183Z"
   },
   {
    "duration": 7,
    "start_time": "2022-09-23T10:20:41.862Z"
   },
   {
    "duration": 93,
    "start_time": "2022-09-23T10:21:00.841Z"
   },
   {
    "duration": 158,
    "start_time": "2022-09-23T10:41:12.946Z"
   },
   {
    "duration": 170,
    "start_time": "2022-09-23T10:41:54.419Z"
   },
   {
    "duration": 173,
    "start_time": "2022-09-23T10:43:21.426Z"
   },
   {
    "duration": 196,
    "start_time": "2022-09-23T10:43:57.838Z"
   },
   {
    "duration": 7,
    "start_time": "2022-09-23T10:46:03.804Z"
   },
   {
    "duration": 111,
    "start_time": "2022-09-23T10:47:00.310Z"
   },
   {
    "duration": 7,
    "start_time": "2022-09-23T10:50:23.374Z"
   },
   {
    "duration": 104,
    "start_time": "2022-09-23T10:50:49.796Z"
   },
   {
    "duration": 7,
    "start_time": "2022-09-23T10:50:51.314Z"
   },
   {
    "duration": 7,
    "start_time": "2022-09-23T10:54:00.406Z"
   },
   {
    "duration": 132,
    "start_time": "2022-09-23T10:54:10.858Z"
   },
   {
    "duration": 13,
    "start_time": "2022-09-23T10:56:30.494Z"
   },
   {
    "duration": 11,
    "start_time": "2022-09-23T10:58:28.284Z"
   },
   {
    "duration": 12,
    "start_time": "2022-09-23T10:59:04.350Z"
   },
   {
    "duration": 11,
    "start_time": "2022-09-23T10:59:08.579Z"
   },
   {
    "duration": 12,
    "start_time": "2022-09-23T10:59:37.680Z"
   },
   {
    "duration": 16,
    "start_time": "2022-09-23T10:59:46.316Z"
   },
   {
    "duration": 119,
    "start_time": "2022-09-23T11:00:29.042Z"
   },
   {
    "duration": 117,
    "start_time": "2022-09-23T11:00:50.158Z"
   },
   {
    "duration": 125,
    "start_time": "2022-09-23T11:00:51.976Z"
   },
   {
    "duration": 122,
    "start_time": "2022-09-23T11:01:12.752Z"
   },
   {
    "duration": 120,
    "start_time": "2022-09-23T11:01:17.885Z"
   },
   {
    "duration": 14,
    "start_time": "2022-09-23T11:09:31.826Z"
   },
   {
    "duration": 113,
    "start_time": "2022-09-23T11:09:34.773Z"
   },
   {
    "duration": 13,
    "start_time": "2022-09-23T11:09:39.259Z"
   },
   {
    "duration": 15,
    "start_time": "2022-09-23T11:09:43.505Z"
   },
   {
    "duration": 1392,
    "start_time": "2022-09-24T02:30:43.695Z"
   },
   {
    "duration": 17,
    "start_time": "2022-09-24T02:30:45.089Z"
   },
   {
    "duration": 4,
    "start_time": "2022-09-24T02:30:45.108Z"
   },
   {
    "duration": 31,
    "start_time": "2022-09-24T02:30:45.114Z"
   },
   {
    "duration": 5,
    "start_time": "2022-09-24T02:30:45.147Z"
   },
   {
    "duration": 13,
    "start_time": "2022-09-24T02:30:45.154Z"
   },
   {
    "duration": 9,
    "start_time": "2022-09-24T02:30:45.168Z"
   },
   {
    "duration": 6,
    "start_time": "2022-09-24T02:30:45.179Z"
   },
   {
    "duration": 5,
    "start_time": "2022-09-24T02:30:45.187Z"
   },
   {
    "duration": 15,
    "start_time": "2022-09-24T02:30:45.194Z"
   },
   {
    "duration": 19,
    "start_time": "2022-09-24T02:30:45.211Z"
   },
   {
    "duration": 328,
    "start_time": "2022-09-24T02:30:45.231Z"
   },
   {
    "duration": 923,
    "start_time": "2022-09-24T02:30:45.561Z"
   },
   {
    "duration": 21,
    "start_time": "2022-09-24T02:30:46.488Z"
   },
   {
    "duration": 1031,
    "start_time": "2022-09-24T02:30:46.511Z"
   },
   {
    "duration": 37,
    "start_time": "2022-09-24T02:30:47.553Z"
   },
   {
    "duration": 4,
    "start_time": "2022-09-24T02:30:47.592Z"
   },
   {
    "duration": 51,
    "start_time": "2022-09-24T02:30:47.598Z"
   },
   {
    "duration": 5,
    "start_time": "2022-09-24T02:30:47.650Z"
   },
   {
    "duration": 11,
    "start_time": "2022-09-24T02:30:47.657Z"
   },
   {
    "duration": 10,
    "start_time": "2022-09-24T02:30:47.670Z"
   },
   {
    "duration": 603,
    "start_time": "2022-09-24T02:30:47.682Z"
   },
   {
    "duration": 319,
    "start_time": "2022-09-24T02:30:48.287Z"
   },
   {
    "duration": 238,
    "start_time": "2022-09-24T02:30:48.608Z"
   },
   {
    "duration": 11,
    "start_time": "2022-09-24T02:30:48.847Z"
   },
   {
    "duration": 146,
    "start_time": "2022-09-24T02:30:48.860Z"
   },
   {
    "duration": 9,
    "start_time": "2022-09-24T02:30:49.008Z"
   },
   {
    "duration": 167,
    "start_time": "2022-09-24T02:30:49.018Z"
   },
   {
    "duration": 9,
    "start_time": "2022-09-24T02:30:49.187Z"
   },
   {
    "duration": 203,
    "start_time": "2022-09-24T02:30:49.198Z"
   },
   {
    "duration": 10,
    "start_time": "2022-09-24T02:30:49.402Z"
   },
   {
    "duration": 7,
    "start_time": "2022-09-24T02:30:49.414Z"
   },
   {
    "duration": 134,
    "start_time": "2022-09-24T02:30:49.423Z"
   },
   {
    "duration": 8,
    "start_time": "2022-09-24T02:30:49.559Z"
   },
   {
    "duration": 121,
    "start_time": "2022-09-24T02:30:49.569Z"
   },
   {
    "duration": 8,
    "start_time": "2022-09-24T02:30:49.692Z"
   },
   {
    "duration": 115,
    "start_time": "2022-09-24T02:30:49.702Z"
   },
   {
    "duration": 8,
    "start_time": "2022-09-24T02:30:49.818Z"
   },
   {
    "duration": 129,
    "start_time": "2022-09-24T02:30:49.827Z"
   },
   {
    "duration": 7,
    "start_time": "2022-09-24T02:30:49.957Z"
   },
   {
    "duration": 223,
    "start_time": "2022-09-24T02:30:49.967Z"
   },
   {
    "duration": 7,
    "start_time": "2022-09-24T02:30:50.192Z"
   },
   {
    "duration": 128,
    "start_time": "2022-09-24T02:30:50.201Z"
   },
   {
    "duration": 12,
    "start_time": "2022-09-24T02:30:50.331Z"
   },
   {
    "duration": 22,
    "start_time": "2022-09-24T02:30:50.345Z"
   },
   {
    "duration": 15,
    "start_time": "2022-09-24T02:30:50.369Z"
   },
   {
    "duration": 10,
    "start_time": "2022-09-24T02:36:06.119Z"
   },
   {
    "duration": 15,
    "start_time": "2022-09-24T02:36:12.790Z"
   },
   {
    "duration": 17,
    "start_time": "2022-09-24T02:38:21.380Z"
   },
   {
    "duration": 19,
    "start_time": "2022-09-24T02:39:41.448Z"
   },
   {
    "duration": 16,
    "start_time": "2022-09-24T02:40:09.359Z"
   },
   {
    "duration": 15,
    "start_time": "2022-09-24T02:41:32.208Z"
   },
   {
    "duration": 17,
    "start_time": "2022-09-24T02:43:22.859Z"
   },
   {
    "duration": 63,
    "start_time": "2022-09-24T02:52:06.517Z"
   },
   {
    "duration": 13,
    "start_time": "2022-09-24T02:54:31.149Z"
   },
   {
    "duration": 5,
    "start_time": "2022-09-24T02:54:42.545Z"
   },
   {
    "duration": 5,
    "start_time": "2022-09-24T02:54:58.178Z"
   },
   {
    "duration": 24,
    "start_time": "2022-09-24T02:55:37.738Z"
   },
   {
    "duration": 27,
    "start_time": "2022-09-24T02:56:18.545Z"
   },
   {
    "duration": 11,
    "start_time": "2022-09-24T02:57:10.203Z"
   },
   {
    "duration": 26,
    "start_time": "2022-09-24T02:57:13.859Z"
   },
   {
    "duration": 7,
    "start_time": "2022-09-24T02:57:41.373Z"
   },
   {
    "duration": 10,
    "start_time": "2022-09-24T02:57:47.763Z"
   },
   {
    "duration": 112,
    "start_time": "2022-09-24T03:01:51.322Z"
   },
   {
    "duration": 7,
    "start_time": "2022-09-24T03:02:21.605Z"
   },
   {
    "duration": 5,
    "start_time": "2022-09-24T03:16:12.744Z"
   },
   {
    "duration": 9,
    "start_time": "2022-09-24T03:19:37.396Z"
   },
   {
    "duration": 7,
    "start_time": "2022-09-24T03:19:49.759Z"
   },
   {
    "duration": 10,
    "start_time": "2022-09-24T03:34:18.934Z"
   },
   {
    "duration": 9,
    "start_time": "2022-09-24T03:34:26.988Z"
   },
   {
    "duration": 4,
    "start_time": "2022-09-24T03:34:35.945Z"
   },
   {
    "duration": 5,
    "start_time": "2022-09-24T03:34:38.123Z"
   },
   {
    "duration": 11,
    "start_time": "2022-09-24T03:38:44.824Z"
   },
   {
    "duration": 26,
    "start_time": "2022-09-24T03:38:49.835Z"
   },
   {
    "duration": 6,
    "start_time": "2022-09-24T03:39:00.929Z"
   },
   {
    "duration": 5,
    "start_time": "2022-09-24T03:39:21.129Z"
   },
   {
    "duration": 26,
    "start_time": "2022-09-24T03:39:24.198Z"
   },
   {
    "duration": 8,
    "start_time": "2022-09-24T03:39:32.839Z"
   },
   {
    "duration": 8,
    "start_time": "2022-09-24T03:40:21.937Z"
   },
   {
    "duration": 4,
    "start_time": "2022-09-24T03:46:02.303Z"
   },
   {
    "duration": 8,
    "start_time": "2022-09-24T03:46:14.905Z"
   },
   {
    "duration": 5,
    "start_time": "2022-09-24T03:46:31.894Z"
   },
   {
    "duration": 63,
    "start_time": "2022-09-24T03:46:46.388Z"
   },
   {
    "duration": 15,
    "start_time": "2022-09-24T03:48:03.504Z"
   },
   {
    "duration": 6,
    "start_time": "2022-09-24T03:48:39.626Z"
   },
   {
    "duration": 71,
    "start_time": "2022-09-24T05:19:07.579Z"
   },
   {
    "duration": 22,
    "start_time": "2022-09-24T05:19:07.652Z"
   },
   {
    "duration": 11,
    "start_time": "2022-09-24T05:19:07.676Z"
   },
   {
    "duration": 10,
    "start_time": "2022-09-24T05:19:07.690Z"
   },
   {
    "duration": 6,
    "start_time": "2022-09-24T05:19:07.702Z"
   },
   {
    "duration": 7,
    "start_time": "2022-09-24T05:19:07.710Z"
   },
   {
    "duration": 37,
    "start_time": "2022-09-24T05:19:07.719Z"
   },
   {
    "duration": 6,
    "start_time": "2022-09-24T05:19:07.758Z"
   },
   {
    "duration": 17,
    "start_time": "2022-09-24T05:19:07.765Z"
   },
   {
    "duration": 8,
    "start_time": "2022-09-24T05:19:07.785Z"
   },
   {
    "duration": 20,
    "start_time": "2022-09-24T05:19:07.794Z"
   },
   {
    "duration": 363,
    "start_time": "2022-09-24T05:19:07.815Z"
   },
   {
    "duration": 1050,
    "start_time": "2022-09-24T05:19:08.182Z"
   },
   {
    "duration": 29,
    "start_time": "2022-09-24T05:19:09.234Z"
   },
   {
    "duration": 1128,
    "start_time": "2022-09-24T05:19:09.265Z"
   },
   {
    "duration": 38,
    "start_time": "2022-09-24T05:19:10.395Z"
   },
   {
    "duration": 5,
    "start_time": "2022-09-24T05:19:10.434Z"
   },
   {
    "duration": 46,
    "start_time": "2022-09-24T05:19:10.453Z"
   },
   {
    "duration": 3,
    "start_time": "2022-09-24T05:19:10.501Z"
   },
   {
    "duration": 28,
    "start_time": "2022-09-24T05:19:10.507Z"
   },
   {
    "duration": 35,
    "start_time": "2022-09-24T05:19:10.537Z"
   },
   {
    "duration": 727,
    "start_time": "2022-09-24T05:19:10.574Z"
   },
   {
    "duration": 576,
    "start_time": "2022-09-24T05:19:11.302Z"
   },
   {
    "duration": 284,
    "start_time": "2022-09-24T05:19:11.880Z"
   },
   {
    "duration": 9,
    "start_time": "2022-09-24T05:19:12.166Z"
   },
   {
    "duration": 170,
    "start_time": "2022-09-24T05:19:12.176Z"
   },
   {
    "duration": 13,
    "start_time": "2022-09-24T05:19:12.348Z"
   },
   {
    "duration": 171,
    "start_time": "2022-09-24T05:19:12.363Z"
   },
   {
    "duration": 18,
    "start_time": "2022-09-24T05:19:12.536Z"
   },
   {
    "duration": 230,
    "start_time": "2022-09-24T05:19:12.556Z"
   },
   {
    "duration": 12,
    "start_time": "2022-09-24T05:19:12.788Z"
   },
   {
    "duration": 9,
    "start_time": "2022-09-24T05:19:12.802Z"
   },
   {
    "duration": 172,
    "start_time": "2022-09-24T05:19:12.812Z"
   },
   {
    "duration": 7,
    "start_time": "2022-09-24T05:19:12.986Z"
   },
   {
    "duration": 142,
    "start_time": "2022-09-24T05:19:12.995Z"
   },
   {
    "duration": 16,
    "start_time": "2022-09-24T05:19:13.139Z"
   },
   {
    "duration": 146,
    "start_time": "2022-09-24T05:19:13.158Z"
   },
   {
    "duration": 7,
    "start_time": "2022-09-24T05:19:13.306Z"
   },
   {
    "duration": 165,
    "start_time": "2022-09-24T05:19:13.315Z"
   },
   {
    "duration": 8,
    "start_time": "2022-09-24T05:19:13.482Z"
   },
   {
    "duration": 147,
    "start_time": "2022-09-24T05:19:13.495Z"
   },
   {
    "duration": 18,
    "start_time": "2022-09-24T05:19:13.644Z"
   },
   {
    "duration": 256,
    "start_time": "2022-09-24T05:19:13.664Z"
   },
   {
    "duration": 18,
    "start_time": "2022-09-24T05:19:13.921Z"
   },
   {
    "duration": 31,
    "start_time": "2022-09-24T05:19:13.940Z"
   },
   {
    "duration": 19,
    "start_time": "2022-09-24T05:19:13.974Z"
   },
   {
    "duration": 29,
    "start_time": "2022-09-24T05:19:13.995Z"
   },
   {
    "duration": 17,
    "start_time": "2022-09-24T05:19:14.026Z"
   },
   {
    "duration": 27,
    "start_time": "2022-09-24T05:19:14.045Z"
   },
   {
    "duration": 19,
    "start_time": "2022-09-24T05:19:14.074Z"
   },
   {
    "duration": 11,
    "start_time": "2022-09-24T05:19:14.095Z"
   },
   {
    "duration": 6,
    "start_time": "2022-09-24T05:19:14.108Z"
   },
   {
    "duration": 6,
    "start_time": "2022-09-24T05:19:14.116Z"
   },
   {
    "duration": 10,
    "start_time": "2022-09-24T05:19:14.124Z"
   },
   {
    "duration": 1713,
    "start_time": "2022-09-24T12:13:15.777Z"
   },
   {
    "duration": 25,
    "start_time": "2022-09-24T12:13:17.494Z"
   },
   {
    "duration": 6,
    "start_time": "2022-09-24T12:13:17.523Z"
   },
   {
    "duration": 11,
    "start_time": "2022-09-24T12:13:17.531Z"
   },
   {
    "duration": 7,
    "start_time": "2022-09-24T12:13:17.544Z"
   },
   {
    "duration": 11,
    "start_time": "2022-09-24T12:13:17.553Z"
   },
   {
    "duration": 45,
    "start_time": "2022-09-24T12:13:17.566Z"
   },
   {
    "duration": 10,
    "start_time": "2022-09-24T12:13:17.614Z"
   },
   {
    "duration": 10,
    "start_time": "2022-09-24T12:13:17.626Z"
   },
   {
    "duration": 11,
    "start_time": "2022-09-24T12:13:17.639Z"
   },
   {
    "duration": 22,
    "start_time": "2022-09-24T12:13:17.652Z"
   },
   {
    "duration": 380,
    "start_time": "2022-09-24T12:13:17.676Z"
   },
   {
    "duration": 1189,
    "start_time": "2022-09-24T12:13:18.058Z"
   },
   {
    "duration": 28,
    "start_time": "2022-09-24T12:13:19.250Z"
   },
   {
    "duration": 1195,
    "start_time": "2022-09-24T12:13:19.291Z"
   },
   {
    "duration": 45,
    "start_time": "2022-09-24T12:13:20.489Z"
   },
   {
    "duration": 4,
    "start_time": "2022-09-24T12:13:20.536Z"
   },
   {
    "duration": 62,
    "start_time": "2022-09-24T12:13:20.541Z"
   },
   {
    "duration": 3,
    "start_time": "2022-09-24T12:13:20.605Z"
   },
   {
    "duration": 10,
    "start_time": "2022-09-24T12:13:20.610Z"
   },
   {
    "duration": 8,
    "start_time": "2022-09-24T12:13:20.621Z"
   },
   {
    "duration": 728,
    "start_time": "2022-09-24T12:13:20.631Z"
   },
   {
    "duration": 358,
    "start_time": "2022-09-24T12:13:21.361Z"
   },
   {
    "duration": 330,
    "start_time": "2022-09-24T12:13:21.721Z"
   },
   {
    "duration": 11,
    "start_time": "2022-09-24T12:13:22.053Z"
   },
   {
    "duration": 221,
    "start_time": "2022-09-24T12:13:22.066Z"
   },
   {
    "duration": 14,
    "start_time": "2022-09-24T12:13:22.289Z"
   },
   {
    "duration": 170,
    "start_time": "2022-09-24T12:13:22.309Z"
   },
   {
    "duration": 18,
    "start_time": "2022-09-24T12:13:22.482Z"
   },
   {
    "duration": 225,
    "start_time": "2022-09-24T12:13:22.502Z"
   },
   {
    "duration": 12,
    "start_time": "2022-09-24T12:13:22.729Z"
   },
   {
    "duration": 9,
    "start_time": "2022-09-24T12:13:22.743Z"
   },
   {
    "duration": 162,
    "start_time": "2022-09-24T12:13:22.754Z"
   },
   {
    "duration": 8,
    "start_time": "2022-09-24T12:13:22.918Z"
   },
   {
    "duration": 136,
    "start_time": "2022-09-24T12:13:22.928Z"
   },
   {
    "duration": 8,
    "start_time": "2022-09-24T12:13:23.066Z"
   },
   {
    "duration": 139,
    "start_time": "2022-09-24T12:13:23.088Z"
   },
   {
    "duration": 8,
    "start_time": "2022-09-24T12:13:23.228Z"
   },
   {
    "duration": 175,
    "start_time": "2022-09-24T12:13:23.238Z"
   },
   {
    "duration": 9,
    "start_time": "2022-09-24T12:13:23.415Z"
   },
   {
    "duration": 224,
    "start_time": "2022-09-24T12:13:23.425Z"
   },
   {
    "duration": 7,
    "start_time": "2022-09-24T12:13:23.651Z"
   },
   {
    "duration": 149,
    "start_time": "2022-09-24T12:13:23.660Z"
   },
   {
    "duration": 15,
    "start_time": "2022-09-24T12:13:23.811Z"
   },
   {
    "duration": 15,
    "start_time": "2022-09-24T12:13:23.828Z"
   },
   {
    "duration": 20,
    "start_time": "2022-09-24T12:13:23.845Z"
   },
   {
    "duration": 13,
    "start_time": "2022-09-24T12:13:23.891Z"
   },
   {
    "duration": 20,
    "start_time": "2022-09-24T12:13:23.909Z"
   },
   {
    "duration": 15,
    "start_time": "2022-09-24T12:13:23.931Z"
   },
   {
    "duration": 21,
    "start_time": "2022-09-24T12:13:23.947Z"
   },
   {
    "duration": 25,
    "start_time": "2022-09-24T12:13:23.970Z"
   },
   {
    "duration": 17,
    "start_time": "2022-09-24T12:13:23.997Z"
   },
   {
    "duration": 15,
    "start_time": "2022-09-24T12:13:24.015Z"
   },
   {
    "duration": 15,
    "start_time": "2022-09-24T12:13:24.031Z"
   },
   {
    "duration": 314,
    "start_time": "2022-09-24T12:31:39.608Z"
   },
   {
    "duration": 334,
    "start_time": "2022-09-24T12:32:00.620Z"
   },
   {
    "duration": 322,
    "start_time": "2022-09-24T12:32:12.320Z"
   },
   {
    "duration": 307,
    "start_time": "2022-09-24T12:32:19.068Z"
   },
   {
    "duration": 12,
    "start_time": "2022-09-24T12:36:50.329Z"
   },
   {
    "duration": 1276,
    "start_time": "2022-09-24T12:54:03.649Z"
   },
   {
    "duration": 19,
    "start_time": "2022-09-24T12:54:04.927Z"
   },
   {
    "duration": 5,
    "start_time": "2022-09-24T12:54:04.948Z"
   },
   {
    "duration": 21,
    "start_time": "2022-09-24T12:54:04.956Z"
   },
   {
    "duration": 22,
    "start_time": "2022-09-24T12:54:04.979Z"
   },
   {
    "duration": 15,
    "start_time": "2022-09-24T12:54:05.005Z"
   },
   {
    "duration": 11,
    "start_time": "2022-09-24T12:54:05.022Z"
   },
   {
    "duration": 15,
    "start_time": "2022-09-24T12:54:05.035Z"
   },
   {
    "duration": 17,
    "start_time": "2022-09-24T12:54:05.052Z"
   },
   {
    "duration": 45,
    "start_time": "2022-09-24T12:54:05.072Z"
   },
   {
    "duration": 53,
    "start_time": "2022-09-24T12:54:05.119Z"
   },
   {
    "duration": 386,
    "start_time": "2022-09-24T12:54:05.174Z"
   },
   {
    "duration": 990,
    "start_time": "2022-09-24T12:54:05.561Z"
   },
   {
    "duration": 22,
    "start_time": "2022-09-24T12:54:06.553Z"
   },
   {
    "duration": 1164,
    "start_time": "2022-09-24T12:54:06.589Z"
   },
   {
    "duration": 57,
    "start_time": "2022-09-24T12:54:07.756Z"
   },
   {
    "duration": 4,
    "start_time": "2022-09-24T12:54:07.816Z"
   },
   {
    "duration": 73,
    "start_time": "2022-09-24T12:54:07.822Z"
   },
   {
    "duration": 6,
    "start_time": "2022-09-24T12:54:07.896Z"
   },
   {
    "duration": 16,
    "start_time": "2022-09-24T12:54:07.904Z"
   },
   {
    "duration": 24,
    "start_time": "2022-09-24T12:54:07.922Z"
   },
   {
    "duration": 759,
    "start_time": "2022-09-24T12:54:07.948Z"
   },
   {
    "duration": 343,
    "start_time": "2022-09-24T12:54:08.709Z"
   },
   {
    "duration": 271,
    "start_time": "2022-09-24T12:54:09.054Z"
   },
   {
    "duration": 335,
    "start_time": "2022-09-24T12:54:09.327Z"
   },
   {
    "duration": 7,
    "start_time": "2022-09-24T12:54:09.664Z"
   },
   {
    "duration": 29,
    "start_time": "2022-09-24T12:54:09.673Z"
   },
   {
    "duration": 164,
    "start_time": "2022-09-24T12:54:09.707Z"
   },
   {
    "duration": 10,
    "start_time": "2022-09-24T12:54:09.872Z"
   },
   {
    "duration": 169,
    "start_time": "2022-09-24T12:54:09.891Z"
   },
   {
    "duration": 10,
    "start_time": "2022-09-24T12:54:10.063Z"
   },
   {
    "duration": 244,
    "start_time": "2022-09-24T12:54:10.074Z"
   },
   {
    "duration": 12,
    "start_time": "2022-09-24T12:54:10.320Z"
   },
   {
    "duration": 8,
    "start_time": "2022-09-24T12:54:10.333Z"
   },
   {
    "duration": 163,
    "start_time": "2022-09-24T12:54:10.343Z"
   },
   {
    "duration": 9,
    "start_time": "2022-09-24T12:54:10.508Z"
   },
   {
    "duration": 134,
    "start_time": "2022-09-24T12:54:10.518Z"
   },
   {
    "duration": 7,
    "start_time": "2022-09-24T12:54:10.654Z"
   },
   {
    "duration": 247,
    "start_time": "2022-09-24T12:54:10.662Z"
   },
   {
    "duration": 7,
    "start_time": "2022-09-24T12:54:10.910Z"
   },
   {
    "duration": 162,
    "start_time": "2022-09-24T12:54:10.919Z"
   },
   {
    "duration": 17,
    "start_time": "2022-09-24T12:54:11.082Z"
   },
   {
    "duration": 148,
    "start_time": "2022-09-24T12:54:11.101Z"
   },
   {
    "duration": 8,
    "start_time": "2022-09-24T12:54:11.251Z"
   },
   {
    "duration": 155,
    "start_time": "2022-09-24T12:54:11.261Z"
   },
   {
    "duration": 18,
    "start_time": "2022-09-24T12:54:11.418Z"
   },
   {
    "duration": 17,
    "start_time": "2022-09-24T12:54:11.438Z"
   },
   {
    "duration": 47,
    "start_time": "2022-09-24T12:54:11.456Z"
   },
   {
    "duration": 15,
    "start_time": "2022-09-24T12:54:11.507Z"
   },
   {
    "duration": 9,
    "start_time": "2022-09-24T12:54:11.524Z"
   },
   {
    "duration": 8,
    "start_time": "2022-09-24T12:54:11.535Z"
   },
   {
    "duration": 8,
    "start_time": "2022-09-24T12:54:11.545Z"
   },
   {
    "duration": 26,
    "start_time": "2022-09-24T12:54:11.555Z"
   },
   {
    "duration": 26,
    "start_time": "2022-09-24T12:54:11.584Z"
   },
   {
    "duration": 13,
    "start_time": "2022-09-24T12:54:11.612Z"
   },
   {
    "duration": 7,
    "start_time": "2022-09-24T12:54:11.627Z"
   },
   {
    "duration": 1395,
    "start_time": "2022-09-25T04:49:26.693Z"
   },
   {
    "duration": 16,
    "start_time": "2022-09-25T04:49:28.090Z"
   },
   {
    "duration": 5,
    "start_time": "2022-09-25T04:49:28.108Z"
   },
   {
    "duration": 9,
    "start_time": "2022-09-25T04:49:28.115Z"
   },
   {
    "duration": 7,
    "start_time": "2022-09-25T04:49:28.125Z"
   },
   {
    "duration": 8,
    "start_time": "2022-09-25T04:49:28.133Z"
   },
   {
    "duration": 36,
    "start_time": "2022-09-25T04:49:28.143Z"
   },
   {
    "duration": 4,
    "start_time": "2022-09-25T04:49:28.181Z"
   },
   {
    "duration": 6,
    "start_time": "2022-09-25T04:49:28.186Z"
   },
   {
    "duration": 7,
    "start_time": "2022-09-25T04:49:28.195Z"
   },
   {
    "duration": 13,
    "start_time": "2022-09-25T04:49:28.203Z"
   },
   {
    "duration": 318,
    "start_time": "2022-09-25T04:49:28.218Z"
   },
   {
    "duration": 940,
    "start_time": "2022-09-25T04:49:28.537Z"
   },
   {
    "duration": 21,
    "start_time": "2022-09-25T04:49:29.479Z"
   },
   {
    "duration": 1028,
    "start_time": "2022-09-25T04:49:29.502Z"
   },
   {
    "duration": 46,
    "start_time": "2022-09-25T04:49:30.531Z"
   },
   {
    "duration": 4,
    "start_time": "2022-09-25T04:49:30.579Z"
   },
   {
    "duration": 44,
    "start_time": "2022-09-25T04:49:30.585Z"
   },
   {
    "duration": 3,
    "start_time": "2022-09-25T04:49:30.631Z"
   },
   {
    "duration": 25,
    "start_time": "2022-09-25T04:49:30.635Z"
   },
   {
    "duration": 18,
    "start_time": "2022-09-25T04:49:30.662Z"
   },
   {
    "duration": 593,
    "start_time": "2022-09-25T04:49:30.682Z"
   },
   {
    "duration": 330,
    "start_time": "2022-09-25T04:49:31.277Z"
   },
   {
    "duration": 236,
    "start_time": "2022-09-25T04:49:31.608Z"
   },
   {
    "duration": 284,
    "start_time": "2022-09-25T04:49:31.846Z"
   },
   {
    "duration": 7,
    "start_time": "2022-09-25T04:49:32.132Z"
   },
   {
    "duration": 23,
    "start_time": "2022-09-25T04:49:32.141Z"
   },
   {
    "duration": 159,
    "start_time": "2022-09-25T04:49:32.168Z"
   },
   {
    "duration": 8,
    "start_time": "2022-09-25T04:49:32.329Z"
   },
   {
    "duration": 159,
    "start_time": "2022-09-25T04:49:32.339Z"
   },
   {
    "duration": 10,
    "start_time": "2022-09-25T04:49:32.499Z"
   },
   {
    "duration": 204,
    "start_time": "2022-09-25T04:49:32.511Z"
   },
   {
    "duration": 12,
    "start_time": "2022-09-25T04:49:32.717Z"
   },
   {
    "duration": 7,
    "start_time": "2022-09-25T04:49:32.731Z"
   },
   {
    "duration": 145,
    "start_time": "2022-09-25T04:49:32.740Z"
   },
   {
    "duration": 8,
    "start_time": "2022-09-25T04:49:32.888Z"
   },
   {
    "duration": 129,
    "start_time": "2022-09-25T04:49:32.898Z"
   },
   {
    "duration": 7,
    "start_time": "2022-09-25T04:49:33.029Z"
   },
   {
    "duration": 197,
    "start_time": "2022-09-25T04:49:33.038Z"
   },
   {
    "duration": 8,
    "start_time": "2022-09-25T04:49:33.238Z"
   },
   {
    "duration": 131,
    "start_time": "2022-09-25T04:49:33.249Z"
   },
   {
    "duration": 7,
    "start_time": "2022-09-25T04:49:33.381Z"
   },
   {
    "duration": 126,
    "start_time": "2022-09-25T04:49:33.389Z"
   },
   {
    "duration": 7,
    "start_time": "2022-09-25T04:49:33.516Z"
   },
   {
    "duration": 124,
    "start_time": "2022-09-25T04:49:33.525Z"
   },
   {
    "duration": 26,
    "start_time": "2022-09-25T04:49:33.651Z"
   },
   {
    "duration": 15,
    "start_time": "2022-09-25T04:49:33.679Z"
   },
   {
    "duration": 17,
    "start_time": "2022-09-25T04:49:33.696Z"
   },
   {
    "duration": 9,
    "start_time": "2022-09-25T04:49:33.715Z"
   },
   {
    "duration": 6,
    "start_time": "2022-09-25T04:49:33.726Z"
   },
   {
    "duration": 6,
    "start_time": "2022-09-25T04:49:33.733Z"
   },
   {
    "duration": 42,
    "start_time": "2022-09-25T04:49:33.740Z"
   },
   {
    "duration": 12,
    "start_time": "2022-09-25T04:49:33.784Z"
   },
   {
    "duration": 9,
    "start_time": "2022-09-25T04:49:33.797Z"
   },
   {
    "duration": 6,
    "start_time": "2022-09-25T04:49:33.807Z"
   },
   {
    "duration": 7,
    "start_time": "2022-09-25T04:49:33.814Z"
   },
   {
    "duration": 125,
    "start_time": "2022-09-25T05:07:36.471Z"
   },
   {
    "duration": 132,
    "start_time": "2022-09-25T05:08:11.302Z"
   },
   {
    "duration": 115,
    "start_time": "2022-09-25T05:09:01.063Z"
   },
   {
    "duration": 30,
    "start_time": "2022-09-25T05:14:04.555Z"
   },
   {
    "duration": 8,
    "start_time": "2022-09-25T05:14:35.344Z"
   },
   {
    "duration": 12,
    "start_time": "2022-09-25T05:14:49.196Z"
   },
   {
    "duration": 10,
    "start_time": "2022-09-25T05:15:16.212Z"
   },
   {
    "duration": 165,
    "start_time": "2022-09-25T05:15:35.344Z"
   },
   {
    "duration": 117,
    "start_time": "2022-09-25T05:15:57.842Z"
   },
   {
    "duration": 11,
    "start_time": "2022-09-25T05:16:16.071Z"
   },
   {
    "duration": 120,
    "start_time": "2022-09-25T05:16:44.950Z"
   },
   {
    "duration": 117,
    "start_time": "2022-09-25T05:17:03.453Z"
   },
   {
    "duration": 11,
    "start_time": "2022-09-25T05:17:09.248Z"
   },
   {
    "duration": 118,
    "start_time": "2022-09-25T05:17:30.594Z"
   },
   {
    "duration": 14,
    "start_time": "2022-09-25T05:18:55.609Z"
   },
   {
    "duration": 232,
    "start_time": "2022-09-25T05:19:23.249Z"
   },
   {
    "duration": 181,
    "start_time": "2022-09-25T05:21:31.714Z"
   },
   {
    "duration": 168,
    "start_time": "2022-09-25T05:23:04.925Z"
   },
   {
    "duration": 171,
    "start_time": "2022-09-25T05:24:31.077Z"
   },
   {
    "duration": 151,
    "start_time": "2022-09-25T05:27:13.764Z"
   },
   {
    "duration": 107,
    "start_time": "2022-09-25T05:28:38.326Z"
   },
   {
    "duration": 6,
    "start_time": "2022-09-25T05:53:42.195Z"
   },
   {
    "duration": 542,
    "start_time": "2022-09-25T05:53:51.180Z"
   },
   {
    "duration": 81,
    "start_time": "2022-09-25T06:07:25.592Z"
   },
   {
    "duration": 58,
    "start_time": "2022-09-25T06:07:35.506Z"
   },
   {
    "duration": 6,
    "start_time": "2022-09-25T06:07:38.422Z"
   },
   {
    "duration": 139,
    "start_time": "2022-09-25T06:08:19.949Z"
   },
   {
    "duration": 13,
    "start_time": "2022-09-25T06:08:44.020Z"
   },
   {
    "duration": 140,
    "start_time": "2022-09-25T06:09:22.516Z"
   },
   {
    "duration": 12,
    "start_time": "2022-09-25T06:09:28.581Z"
   },
   {
    "duration": 61,
    "start_time": "2022-09-25T06:10:43.608Z"
   },
   {
    "duration": 14,
    "start_time": "2022-09-25T06:10:43.671Z"
   },
   {
    "duration": 7,
    "start_time": "2022-09-25T06:10:43.687Z"
   },
   {
    "duration": 11,
    "start_time": "2022-09-25T06:10:43.696Z"
   },
   {
    "duration": 8,
    "start_time": "2022-09-25T06:10:43.709Z"
   },
   {
    "duration": 8,
    "start_time": "2022-09-25T06:10:43.718Z"
   },
   {
    "duration": 10,
    "start_time": "2022-09-25T06:10:43.727Z"
   },
   {
    "duration": 38,
    "start_time": "2022-09-25T06:10:43.739Z"
   },
   {
    "duration": 6,
    "start_time": "2022-09-25T06:10:43.778Z"
   },
   {
    "duration": 7,
    "start_time": "2022-09-25T06:10:43.786Z"
   },
   {
    "duration": 15,
    "start_time": "2022-09-25T06:10:43.794Z"
   },
   {
    "duration": 432,
    "start_time": "2022-09-25T06:10:43.811Z"
   },
   {
    "duration": 922,
    "start_time": "2022-09-25T06:10:44.245Z"
   },
   {
    "duration": 23,
    "start_time": "2022-09-25T06:10:45.172Z"
   },
   {
    "duration": 1064,
    "start_time": "2022-09-25T06:10:45.197Z"
   },
   {
    "duration": 46,
    "start_time": "2022-09-25T06:10:46.263Z"
   },
   {
    "duration": 4,
    "start_time": "2022-09-25T06:10:46.312Z"
   },
   {
    "duration": 60,
    "start_time": "2022-09-25T06:10:46.319Z"
   },
   {
    "duration": 3,
    "start_time": "2022-09-25T06:10:46.381Z"
   },
   {
    "duration": 8,
    "start_time": "2022-09-25T06:10:46.386Z"
   },
   {
    "duration": 129,
    "start_time": "2022-09-25T06:10:46.396Z"
   },
   {
    "duration": 187,
    "start_time": "2022-09-25T06:10:46.527Z"
   },
   {
    "duration": 168,
    "start_time": "2022-09-25T06:10:46.715Z"
   },
   {
    "duration": 206,
    "start_time": "2022-09-25T06:10:46.884Z"
   },
   {
    "duration": 232,
    "start_time": "2022-09-25T06:10:47.093Z"
   },
   {
    "duration": 181,
    "start_time": "2022-09-25T06:10:47.327Z"
   },
   {
    "duration": 6,
    "start_time": "2022-09-25T06:10:47.510Z"
   },
   {
    "duration": 638,
    "start_time": "2022-09-25T06:10:47.517Z"
   },
   {
    "duration": 221,
    "start_time": "2022-09-25T06:10:48.156Z"
   },
   {
    "duration": 231,
    "start_time": "2022-09-25T06:10:48.379Z"
   },
   {
    "duration": 289,
    "start_time": "2022-09-25T06:10:48.612Z"
   },
   {
    "duration": 6,
    "start_time": "2022-09-25T06:10:48.903Z"
   },
   {
    "duration": 13,
    "start_time": "2022-09-25T06:10:48.911Z"
   },
   {
    "duration": 199,
    "start_time": "2022-09-25T06:10:48.925Z"
   },
   {
    "duration": 11,
    "start_time": "2022-09-25T06:10:49.126Z"
   },
   {
    "duration": 155,
    "start_time": "2022-09-25T06:10:49.139Z"
   },
   {
    "duration": 12,
    "start_time": "2022-09-25T06:10:49.298Z"
   },
   {
    "duration": 205,
    "start_time": "2022-09-25T06:10:49.311Z"
   },
   {
    "duration": 11,
    "start_time": "2022-09-25T06:10:49.518Z"
   },
   {
    "duration": 6,
    "start_time": "2022-09-25T06:10:49.531Z"
   },
   {
    "duration": 239,
    "start_time": "2022-09-25T06:10:49.539Z"
   },
   {
    "duration": 8,
    "start_time": "2022-09-25T06:10:49.780Z"
   },
   {
    "duration": 124,
    "start_time": "2022-09-25T06:10:49.790Z"
   },
   {
    "duration": 6,
    "start_time": "2022-09-25T06:10:49.915Z"
   },
   {
    "duration": 122,
    "start_time": "2022-09-25T06:10:49.923Z"
   },
   {
    "duration": 7,
    "start_time": "2022-09-25T06:10:50.047Z"
   },
   {
    "duration": 135,
    "start_time": "2022-09-25T06:10:50.055Z"
   },
   {
    "duration": 8,
    "start_time": "2022-09-25T06:10:50.191Z"
   },
   {
    "duration": 129,
    "start_time": "2022-09-25T06:10:50.201Z"
   },
   {
    "duration": 8,
    "start_time": "2022-09-25T06:10:50.331Z"
   },
   {
    "duration": 147,
    "start_time": "2022-09-25T06:10:50.340Z"
   },
   {
    "duration": 14,
    "start_time": "2022-09-25T06:10:50.488Z"
   },
   {
    "duration": 17,
    "start_time": "2022-09-25T06:10:50.504Z"
   },
   {
    "duration": 18,
    "start_time": "2022-09-25T06:10:50.522Z"
   },
   {
    "duration": 8,
    "start_time": "2022-09-25T06:10:50.541Z"
   },
   {
    "duration": 28,
    "start_time": "2022-09-25T06:10:50.551Z"
   },
   {
    "duration": 20,
    "start_time": "2022-09-25T06:10:50.581Z"
   },
   {
    "duration": 9,
    "start_time": "2022-09-25T06:10:50.603Z"
   },
   {
    "duration": 9,
    "start_time": "2022-09-25T06:10:50.613Z"
   },
   {
    "duration": 5,
    "start_time": "2022-09-25T06:10:50.624Z"
   },
   {
    "duration": 5,
    "start_time": "2022-09-25T06:10:50.631Z"
   },
   {
    "duration": 7,
    "start_time": "2022-09-25T06:10:50.638Z"
   },
   {
    "duration": 11,
    "start_time": "2022-09-25T06:15:29.642Z"
   },
   {
    "duration": 20,
    "start_time": "2022-09-25T06:16:35.250Z"
   },
   {
    "duration": 13,
    "start_time": "2022-09-25T06:18:48.812Z"
   },
   {
    "duration": 98,
    "start_time": "2022-09-25T06:26:39.499Z"
   },
   {
    "duration": 183,
    "start_time": "2022-09-25T06:26:44.704Z"
   },
   {
    "duration": 202,
    "start_time": "2022-09-25T06:27:49.370Z"
   },
   {
    "duration": 8,
    "start_time": "2022-09-25T06:50:23.261Z"
   },
   {
    "duration": 6,
    "start_time": "2022-09-25T06:50:35.622Z"
   },
   {
    "duration": 10,
    "start_time": "2022-09-25T06:51:00.917Z"
   },
   {
    "duration": 117,
    "start_time": "2022-09-25T06:51:25.798Z"
   },
   {
    "duration": 8,
    "start_time": "2022-09-25T06:53:42.527Z"
   },
   {
    "duration": 116,
    "start_time": "2022-09-25T06:54:27.131Z"
   },
   {
    "duration": 9,
    "start_time": "2022-09-25T06:55:57.512Z"
   },
   {
    "duration": 112,
    "start_time": "2022-09-25T06:56:11.446Z"
   },
   {
    "duration": 9,
    "start_time": "2022-09-25T06:57:47.703Z"
   },
   {
    "duration": 104,
    "start_time": "2022-09-25T06:58:26.256Z"
   },
   {
    "duration": 6,
    "start_time": "2022-09-25T06:59:37.366Z"
   },
   {
    "duration": 114,
    "start_time": "2022-09-25T06:59:47.807Z"
   },
   {
    "duration": 7,
    "start_time": "2022-09-25T06:59:49.213Z"
   },
   {
    "duration": 8,
    "start_time": "2022-09-25T07:01:43.898Z"
   },
   {
    "duration": 122,
    "start_time": "2022-09-25T07:01:58.227Z"
   },
   {
    "duration": 18,
    "start_time": "2022-09-25T07:04:25.225Z"
   },
   {
    "duration": 15,
    "start_time": "2022-09-25T07:04:42.008Z"
   },
   {
    "duration": 15,
    "start_time": "2022-09-25T07:04:49.316Z"
   },
   {
    "duration": 5,
    "start_time": "2022-09-25T07:20:21.662Z"
   },
   {
    "duration": 5,
    "start_time": "2022-09-25T07:20:31.825Z"
   },
   {
    "duration": 58,
    "start_time": "2022-09-25T07:28:38.817Z"
   },
   {
    "duration": 13,
    "start_time": "2022-09-25T07:28:38.878Z"
   },
   {
    "duration": 15,
    "start_time": "2022-09-25T07:28:38.893Z"
   },
   {
    "duration": 9,
    "start_time": "2022-09-25T07:28:38.910Z"
   },
   {
    "duration": 5,
    "start_time": "2022-09-25T07:28:38.921Z"
   },
   {
    "duration": 11,
    "start_time": "2022-09-25T07:28:38.928Z"
   },
   {
    "duration": 11,
    "start_time": "2022-09-25T07:28:38.941Z"
   },
   {
    "duration": 24,
    "start_time": "2022-09-25T07:28:38.953Z"
   },
   {
    "duration": 11,
    "start_time": "2022-09-25T07:28:38.978Z"
   },
   {
    "duration": 7,
    "start_time": "2022-09-25T07:28:38.992Z"
   },
   {
    "duration": 18,
    "start_time": "2022-09-25T07:28:39.000Z"
   },
   {
    "duration": 412,
    "start_time": "2022-09-25T07:28:39.020Z"
   },
   {
    "duration": 892,
    "start_time": "2022-09-25T07:28:39.434Z"
   },
   {
    "duration": 21,
    "start_time": "2022-09-25T07:28:40.328Z"
   },
   {
    "duration": 1086,
    "start_time": "2022-09-25T07:28:40.351Z"
   },
   {
    "duration": 51,
    "start_time": "2022-09-25T07:28:41.440Z"
   },
   {
    "duration": 5,
    "start_time": "2022-09-25T07:28:41.493Z"
   },
   {
    "duration": 45,
    "start_time": "2022-09-25T07:28:41.503Z"
   },
   {
    "duration": 3,
    "start_time": "2022-09-25T07:28:41.550Z"
   },
   {
    "duration": 25,
    "start_time": "2022-09-25T07:28:41.555Z"
   },
   {
    "duration": 162,
    "start_time": "2022-09-25T07:28:41.582Z"
   },
   {
    "duration": 183,
    "start_time": "2022-09-25T07:28:41.746Z"
   },
   {
    "duration": 189,
    "start_time": "2022-09-25T07:28:41.930Z"
   },
   {
    "duration": 176,
    "start_time": "2022-09-25T07:28:42.122Z"
   },
   {
    "duration": 179,
    "start_time": "2022-09-25T07:28:42.300Z"
   },
   {
    "duration": 173,
    "start_time": "2022-09-25T07:28:42.480Z"
   },
   {
    "duration": 6,
    "start_time": "2022-09-25T07:28:42.654Z"
   },
   {
    "duration": 554,
    "start_time": "2022-09-25T07:28:42.677Z"
   },
   {
    "duration": 351,
    "start_time": "2022-09-25T07:28:43.232Z"
   },
   {
    "duration": 257,
    "start_time": "2022-09-25T07:28:43.584Z"
   },
   {
    "duration": 296,
    "start_time": "2022-09-25T07:28:43.842Z"
   },
   {
    "duration": 5,
    "start_time": "2022-09-25T07:28:44.140Z"
   },
   {
    "duration": 30,
    "start_time": "2022-09-25T07:28:44.147Z"
   },
   {
    "duration": 166,
    "start_time": "2022-09-25T07:28:44.179Z"
   },
   {
    "duration": 12,
    "start_time": "2022-09-25T07:28:44.346Z"
   },
   {
    "duration": 162,
    "start_time": "2022-09-25T07:28:44.376Z"
   },
   {
    "duration": 15,
    "start_time": "2022-09-25T07:28:44.539Z"
   },
   {
    "duration": 28,
    "start_time": "2022-09-25T07:28:44.556Z"
   },
   {
    "duration": 22,
    "start_time": "2022-09-25T07:28:44.586Z"
   },
   {
    "duration": 228,
    "start_time": "2022-09-25T07:28:44.611Z"
   },
   {
    "duration": 11,
    "start_time": "2022-09-25T07:28:44.843Z"
   },
   {
    "duration": 35,
    "start_time": "2022-09-25T07:28:44.856Z"
   },
   {
    "duration": 120,
    "start_time": "2022-09-25T07:28:44.893Z"
   },
   {
    "duration": 8,
    "start_time": "2022-09-25T07:28:45.015Z"
   },
   {
    "duration": 127,
    "start_time": "2022-09-25T07:28:45.025Z"
   },
   {
    "duration": 7,
    "start_time": "2022-09-25T07:28:45.153Z"
   },
   {
    "duration": 151,
    "start_time": "2022-09-25T07:28:45.162Z"
   },
   {
    "duration": 9,
    "start_time": "2022-09-25T07:28:45.315Z"
   },
   {
    "duration": 171,
    "start_time": "2022-09-25T07:28:45.326Z"
   },
   {
    "duration": 6,
    "start_time": "2022-09-25T07:28:45.499Z"
   },
   {
    "duration": 252,
    "start_time": "2022-09-25T07:28:45.507Z"
   },
   {
    "duration": 19,
    "start_time": "2022-09-25T07:28:45.761Z"
   },
   {
    "duration": 111,
    "start_time": "2022-09-25T07:28:45.782Z"
   },
   {
    "duration": 15,
    "start_time": "2022-09-25T07:28:45.894Z"
   },
   {
    "duration": 16,
    "start_time": "2022-09-25T07:28:45.910Z"
   },
   {
    "duration": 15,
    "start_time": "2022-09-25T07:28:45.927Z"
   },
   {
    "duration": 38,
    "start_time": "2022-09-25T07:28:45.944Z"
   },
   {
    "duration": 8,
    "start_time": "2022-09-25T07:28:45.984Z"
   },
   {
    "duration": 9,
    "start_time": "2022-09-25T07:28:45.994Z"
   },
   {
    "duration": 9,
    "start_time": "2022-09-25T07:28:46.005Z"
   },
   {
    "duration": 1359,
    "start_time": "2022-09-25T09:08:54.908Z"
   },
   {
    "duration": 15,
    "start_time": "2022-09-25T09:08:56.269Z"
   },
   {
    "duration": 4,
    "start_time": "2022-09-25T09:08:56.285Z"
   },
   {
    "duration": 9,
    "start_time": "2022-09-25T09:08:56.291Z"
   },
   {
    "duration": 4,
    "start_time": "2022-09-25T09:08:56.301Z"
   },
   {
    "duration": 5,
    "start_time": "2022-09-25T09:08:56.307Z"
   },
   {
    "duration": 5,
    "start_time": "2022-09-25T09:08:56.313Z"
   },
   {
    "duration": 4,
    "start_time": "2022-09-25T09:08:56.319Z"
   },
   {
    "duration": 4,
    "start_time": "2022-09-25T09:08:56.325Z"
   },
   {
    "duration": 5,
    "start_time": "2022-09-25T09:08:56.331Z"
   },
   {
    "duration": 12,
    "start_time": "2022-09-25T09:08:56.338Z"
   },
   {
    "duration": 308,
    "start_time": "2022-09-25T09:08:56.351Z"
   },
   {
    "duration": 865,
    "start_time": "2022-09-25T09:08:56.660Z"
   },
   {
    "duration": 19,
    "start_time": "2022-09-25T09:08:57.526Z"
   },
   {
    "duration": 964,
    "start_time": "2022-09-25T09:08:57.546Z"
   },
   {
    "duration": 34,
    "start_time": "2022-09-25T09:08:58.512Z"
   },
   {
    "duration": 4,
    "start_time": "2022-09-25T09:08:58.548Z"
   },
   {
    "duration": 49,
    "start_time": "2022-09-25T09:08:58.553Z"
   },
   {
    "duration": 3,
    "start_time": "2022-09-25T09:08:58.603Z"
   },
   {
    "duration": 9,
    "start_time": "2022-09-25T09:08:58.607Z"
   },
   {
    "duration": 106,
    "start_time": "2022-09-25T09:08:58.617Z"
   },
   {
    "duration": 163,
    "start_time": "2022-09-25T09:08:58.725Z"
   },
   {
    "duration": 237,
    "start_time": "2022-09-25T09:08:58.890Z"
   },
   {
    "duration": 160,
    "start_time": "2022-09-25T09:08:59.128Z"
   },
   {
    "duration": 171,
    "start_time": "2022-09-25T09:08:59.289Z"
   },
   {
    "duration": 156,
    "start_time": "2022-09-25T09:08:59.462Z"
   },
   {
    "duration": 5,
    "start_time": "2022-09-25T09:08:59.620Z"
   },
   {
    "duration": 477,
    "start_time": "2022-09-25T09:08:59.628Z"
   },
   {
    "duration": 214,
    "start_time": "2022-09-25T09:09:00.106Z"
   },
   {
    "duration": 232,
    "start_time": "2022-09-25T09:09:00.322Z"
   },
   {
    "duration": 362,
    "start_time": "2022-09-25T09:09:00.556Z"
   },
   {
    "duration": 7,
    "start_time": "2022-09-25T09:09:00.919Z"
   },
   {
    "duration": 33,
    "start_time": "2022-09-25T09:09:00.927Z"
   },
   {
    "duration": 162,
    "start_time": "2022-09-25T09:09:00.962Z"
   },
   {
    "duration": 13,
    "start_time": "2022-09-25T09:09:01.126Z"
   },
   {
    "duration": 159,
    "start_time": "2022-09-25T09:09:01.141Z"
   },
   {
    "duration": 10,
    "start_time": "2022-09-25T09:09:01.302Z"
   },
   {
    "duration": 33,
    "start_time": "2022-09-25T09:09:01.314Z"
   },
   {
    "duration": 11,
    "start_time": "2022-09-25T09:09:01.349Z"
   },
   {
    "duration": 185,
    "start_time": "2022-09-25T09:09:01.361Z"
   },
   {
    "duration": 9,
    "start_time": "2022-09-25T09:09:01.548Z"
   },
   {
    "duration": 7,
    "start_time": "2022-09-25T09:09:01.559Z"
   },
   {
    "duration": 110,
    "start_time": "2022-09-25T09:09:01.567Z"
   },
   {
    "duration": 6,
    "start_time": "2022-09-25T09:09:01.679Z"
   },
   {
    "duration": 127,
    "start_time": "2022-09-25T09:09:01.687Z"
   },
   {
    "duration": 6,
    "start_time": "2022-09-25T09:09:01.816Z"
   },
   {
    "duration": 107,
    "start_time": "2022-09-25T09:09:01.823Z"
   },
   {
    "duration": 6,
    "start_time": "2022-09-25T09:09:01.931Z"
   },
   {
    "duration": 131,
    "start_time": "2022-09-25T09:09:01.938Z"
   },
   {
    "duration": 6,
    "start_time": "2022-09-25T09:09:02.070Z"
   },
   {
    "duration": 114,
    "start_time": "2022-09-25T09:09:02.078Z"
   },
   {
    "duration": 10,
    "start_time": "2022-09-25T09:09:02.194Z"
   },
   {
    "duration": 122,
    "start_time": "2022-09-25T09:09:02.206Z"
   },
   {
    "duration": 15,
    "start_time": "2022-09-25T09:09:02.330Z"
   },
   {
    "duration": 17,
    "start_time": "2022-09-25T09:09:02.347Z"
   },
   {
    "duration": 14,
    "start_time": "2022-09-25T09:09:02.365Z"
   },
   {
    "duration": 22,
    "start_time": "2022-09-25T09:09:02.381Z"
   },
   {
    "duration": 4,
    "start_time": "2022-09-25T09:09:02.404Z"
   },
   {
    "duration": 12,
    "start_time": "2022-09-25T09:09:02.410Z"
   },
   {
    "duration": 10,
    "start_time": "2022-09-25T09:09:02.424Z"
   }
  ],
  "kernelspec": {
   "display_name": "Python 3 (ipykernel)",
   "language": "python",
   "name": "python3"
  },
  "language_info": {
   "codemirror_mode": {
    "name": "ipython",
    "version": 3
   },
   "file_extension": ".py",
   "mimetype": "text/x-python",
   "name": "python",
   "nbconvert_exporter": "python",
   "pygments_lexer": "ipython3",
   "version": "3.9.15"
  },
  "toc": {
   "base_numbering": 1,
   "nav_menu": {},
   "number_sections": true,
   "sideBar": true,
   "skip_h1_title": true,
   "title_cell": "Table of Contents",
   "title_sidebar": "Contents",
   "toc_cell": false,
   "toc_position": {
    "height": "calc(100% - 180px)",
    "left": "10px",
    "top": "150px",
    "width": "286.075px"
   },
   "toc_section_display": true,
   "toc_window_display": true
  }
 },
 "nbformat": 4,
 "nbformat_minor": 4
}
